{
 "metadata": {
  "name": "",
  "signature": "sha256:c18eaa7ae665473c7768745cb301818b9fd8ad3a0d8a9cb09a414d7d71bb882d"
 },
 "nbformat": 3,
 "nbformat_minor": 0,
 "worksheets": [
  {
   "cells": [
    {
     "cell_type": "code",
     "collapsed": false,
     "input": [
      "import pymongo\n",
      "import tweepy\n",
      "import json\n",
      "from pymongo import MongoClient\n",
      "from bson.objectid import ObjectId\n",
      "from sklearn.feature_extraction.text import TfidfVectorizer, TfidfTransformer\n",
      "from sklearn.feature_extraction.text import CountVectorizer\n",
      "\n",
      "client = MongoClient('localhost',27017)\n",
      "\n",
      "db = client.dump\n",
      "print db.collection_names()\n",
      "print db.tweets.count()\n",
      "print db.tweets.find({'fem':1}).count() #neg\n",
      "print db.tweets.find({'fem':0}).count() #pos\n",
      "print db.tweets.find({\"fem\": {\"$exists\": False}}).count() #test\n",
      "neg_tweets = [(doc['text']) for doc in db.tweets.find({'fem':1})] \n",
      "pos_tweets = [(doc['text']) for doc in db.tweets.find({'fem':0})] \n",
      "neg_sent =  [(doc['fem']) for doc in db.tweets.find({'fem':1})] \n",
      "pos_sent = [(doc['fem']) for doc in db.tweets.find({'fem':0})]\n",
      "all_tweets= [(doc['text']) for doc in db.tweets.find({\"text\": {\"$exists\":True}})] \n",
      "sent = neg_sent + pos_sent\n",
      "traintweets = neg_tweets + pos_tweets\n",
      "type(sent)"
     ],
     "language": "python",
     "metadata": {},
     "outputs": [
      {
       "output_type": "stream",
       "stream": "stdout",
       "text": [
        "[u'langs', u'system.indexes', u'tweets']\n",
        "30597\n",
        "217\n",
        "217\n",
        "30163"
       ]
      },
      {
       "output_type": "stream",
       "stream": "stdout",
       "text": [
        "\n"
       ]
      },
      {
       "metadata": {},
       "output_type": "pyout",
       "prompt_number": 1,
       "text": [
        "list"
       ]
      }
     ],
     "prompt_number": 1
    },
    {
     "cell_type": "code",
     "collapsed": false,
     "input": [
      "from sklearn.feature_extraction.text import CountVectorizer\n",
      "vect = CountVectorizer(analyzer='char_wb', ngram_range=(2, 5), encoding=u'utf-8', stop_words='english', max_features=10000)\n",
      "ngvText = vect.fit_transform(all_tweets)"
     ],
     "language": "python",
     "metadata": {},
     "outputs": [],
     "prompt_number": 4
    },
    {
     "cell_type": "code",
     "collapsed": false,
     "input": [
      "import pickle\n",
      "pickle.dump( ngvText, open( \"save.p\", \"wb\" ) )\n",
      "\n",
      "\n",
      "posText = vect.transform(pos_tweets)\n",
      "negText = vect.transform(neg_tweets)\n",
      "\n",
      "\n",
      "pickle.dump( posText, open( \"pos.p\", \"wb\" ) )\n",
      "pickle.dump( negText, open( \"neg.p\", \"wb\" ) )"
     ],
     "language": "python",
     "metadata": {},
     "outputs": [],
     "prompt_number": 5
    },
    {
     "cell_type": "code",
     "collapsed": false,
     "input": [
      "from textstat.textstat import textstat\n",
      "str1 = ''.join(pos_tweets)\n",
      "#try '\"{}\"'.format('\", \"'.join(words))\n",
      "if __name__ == '__main__':\n",
      "               test_data = str1\n",
      "        \n",
      "a= textstat.flesch_reading_ease(test_data)\n",
      "\n",
      "b= textstat.flesch_kincaid_grade(test_data)\n",
      "\n",
      "c= textstat.coleman_liau_index(test_data)\n",
      "\n",
      "d= textstat.automated_readability_index(test_data)\n",
      "\n",
      "\n",
      "e= textstat.linsear_write_formula(test_data)\n",
      "score = (a+b+c+d+e)/5\n",
      "print score\n",
      "print pos_tweets"
     ],
     "language": "python",
     "metadata": {},
     "outputs": [
      {
       "output_type": "stream",
       "stream": "stdout",
       "text": [
        "20.486\n",
        "[u'RT @punkthetic: Feminist support gender equality not female supremacy get your facts straight before you post something ignorant on the Int\\u2026', u'RT @AlexisDerikSmit: \"I don\\'t believe in feminism.\"\\n\\nSHUN THE NON BELIEVER. SHUNNN.', u'RT @punkthetic: dont support feminism because its \"trendy\" on tumblr, support it because you morally believe in gender equality in all aspe\\u2026', u'psa: this is feminism. it is for women and men, addressing prejudice &amp; gender roles against both. call yourself one. http://t.co/KbaJbMoqdR', u'RT @NotAllBhas: White Feminist\\u2122 called out on racist appropriation responds, claiming she has no obligation to respect other cultures http:\\u2026', u'RT @melissagira: Feminism should have no room for \\u201cfor her own good.\\u201d', u'RT @AlexisDerikSmit: \"I don\\'t believe in feminism.\"\\n\\nSHUN THE NON BELIEVER. SHUNNN.', u'RT @snoozyloser: if ur a girl that is against feminism why r u voting. why r u wearing pants. how can u read', u'RT @amaraconda: white feminism http://t.co/Ie3kQIV9pj', u'RT @amaraconda: white feminism http://t.co/Ie3kQIV9pj', u\"RT @thetrudz: That book raises the hairs on my neck. It's so important to me as someone who found womanism &amp; Blk feminism via BW's music an\\u2026\", u'I\\u2019m not sure why people are low on feminists. i would date a feminist in 0.3 seconds if I liked her.', u'Bjork talks her new heartbreak album Vulnicura, Kanye West, and feeling a fourth wave of feminism with @pitchfork .. http://t.co/w7dlYhEDk0', u\"people base their concepts of feminism off what one feminist says, but if we base our concept of sexism off what one male says, we're sexist\", u'RT @AlexisDerikSmit: \"I don\\'t believe in feminism.\"\\n\\nSHUN THE NON BELIEVER. SHUNNN.', u'RT @sci_fine: Gandhi was racist &amp; misogynist stop using his quotes in the context of feminism and uplifting the black community', u'@rgay luv ur work, esp Bad Feminist, but sometimes I think us white men will read it and feel excused from our racist, misogynist behavior', u'@BadhbhCatha @plastik808 the creep has been trolling feminist HTs for ages', u'RT @pajama_sam_: True feminism always promotes equality among all people despite gender, sexuality, race, etc..', u\"Why do people use the word feminist like it's a bad thing that irritates me so much\", u'RT @sci_fine: Gandhi was racist &amp; misogynist stop using his quotes in the context of feminism and uplifting the black community', u'RT @sci_fine: Gandhi was racist &amp; misogynist stop using his quotes in the context of feminism and uplifting the black community', u'RT @punkthetic: dont support feminism because its \"trendy\" on tumblr, support it because you morally believe in gender equality in all aspe\\u2026', u\"RT @YesMeninism: I need meninism because it's so much easier to pretend women cause all my problems than to admit what I actually need is f\\u2026\", u'RT @amaraconda: white feminism http://t.co/Ie3kQIV9pj', u'RT @PIXIECRISTIN: people base their concepts of feminism off what one feminist says, but if we base our concept of sexism off what one male\\u2026', u\"RT @BrBabblingBooks: #Feminism does not kill, injure or destroy. Many other  belief systems do. Don't apologize for being a feminist. #YesA\\u2026\", u'i mean people can base their definition of feminism off of what one \"feminist\" says or acts like', u'Yo, @Wikipedia WTF is this all about? #feminism #sexuality #gender http://t.co/HRkayEpoMs', u'RT @cat_o_holic: you are not a feminist if\\u2070 you exclude trans women\\u2070 you believe men are the problem\\u2070 &amp; women cant rape\\u2070 or you body or slu\\u2026', u'\"Everyone we hire on our show is a feminist, male or female\\u2026we, without a doubt, are feminists.\" - Abbi Jacobson THATS WHAT IM HERE FOR YES', u'RT @AlexisDerikSmit: idk i think feminism should be called something different like common sense or something', u\"its so ironic how the words feminist and sexist are almost synonyms for most people these days x'D\", u'@MathewBCrawford \\U0001f618 matching radical feminist scarves, oversized specs, and check tops on date #1 !', u\"the chick who was cast as the woman in 50 shades claims she supports equality &amp; that there's nothing anti feminist about the book but.....\", u\"@blemur @_lyude (and feminism, in turn, should seek to support people that aren't cis white women)\", u'my assignment in english is about the beginning of feminism this is my fucking calling im gonna ace this shit', u'I love talking about feminism. I could go on and on all day about that subject', u'RT @JessicaKRoy: finally a feminist snowstorm http://t.co/QOYa214jdE', u'I will stress the importance of feminism until the day I die to be quite honest', u'RT @shoe0nhead: what happens when a 3rd wave feminist meets a real feminist\\n\\nthis will always be a classic. @CHSommers http://t.co/CmQUw4ZR\\u2026', u'RT @kelsiecercone: dear anti feminist females http://t.co/ccLGe0fOQ3', u\"RT @ingloreus: Here's a few statistics to show why feminism is pretty much needed http://t.co/XWAS5NW2Jy\", u\"look I am down for Feminism  but Anita Sarkeesan well said girls can't play games so shes making it easy for girls to (C)\", u\"RT @RAZ0RFIST: Alpha calling out Sarkeesian for braindead logical fallacies is 'anti-feminist'... in the same way that greeting a sunrise i\\u2026\", u\"@ajwetterau I've realized our friendship is just one long on going conversation about feminism #WAGSscholars;)\", u'RT @HiItsNotMe: New #feminism #blog from @NSVRC: What brought you into this work? http://t.co/LY7rfAcPmf', u'Is Emma Watson really doing live action Beauty and the Beast? Seems at odds with her feminist principles, no? @meg_pirie', u'@femfreq nobody voted you to represent women in the largest entertainment medium in the world.Your brand is hate and dilutes real feminism', u'All women are humans and all humans are animals, but no nonhumans are women. Veganism = freeing all animals. Feminism = freeing all women.', u\"RT @Bastilleer: Why do people use the word feminist like it's a bad thing that irritates me so much\", u'RT @del_graves: psa: this is feminism. it is for women and men, addressing prejudice &amp; gender roles against both. call yourself one. http:/\\u2026', u'RT @shaunduke: Feminism = equality for all sexes. Feminism \\u2260 making men slaves. Feminism \\u2260 making women superior. Feminism \\u2260 whatever crazy\\u2026', u'@kenny_work are you kidding? that is the entirety of the movement. if you think feminism is about hating men then you need to research more.', u'yoooo feminism is real', u'Everyone should check out http://t.co/LixKWdKL3j, an amazing feminist website that allows women to reclaim their bodies and their stories.', u\"I have never said I was feminist bc I don't want all of you dragging me saying im only feminist on twitter or tumblr\", u'RT @HeforShe: RT @sugarscape Watch Emma Watson give yet another kick ass speech about feminism and gender equality: http://t.co/xOqE1HSoq4', u'RT @SoulThatMatters: #TweetLikeAFeminist if you know what feminism is. Otherwise, refrain from making yourself sound uneducated.', u'All of the backlash against the feminist movement justifies the need for the movement in the first place lmao \\u270c', u\"I don't think there's anything I hate more than females who say they don't need feminism just because they haven't experienced inequality\", u'Gender, Culture and Representation: Feminist Science Fiction and Feminist Science Studies: This guides present... http://t.co/LUj645OC7Y', u'How do girls get acculturated to be silent? #girlsmatter #girlpower #feminism http://t.co/UzPwmzkX3M', u\"RT @lrystirfry: Girls who don't understand feminism make me scared for the future\", u\"NEWSFLASH : Being a feminist doesn't mean you hate men or family valuea. You CAN be a feminist and still a SAHM. Are we understood?\", u\"I am honestly so happy that's it's socially acceptable to be a feminist now. Like wow, go equality.\", u'Grandma #feminism: she gets excited when there is a lady winner of Jeopardy. #babysteps', u'Feminist Frequency to pivot toward combating \\u201cgendered online harassment\\u201d http://t.co/eqw4iIBYJp #tech #gadgets #science', u\"novamente, i'm feminist because i am a woman and i'm a lesbian because i love women\", u\"RT @teenidlenourry: People say they're against feminism before they even know the correct definition\", u'RT @Donte__502: If Cinderella was a feminist http://t.co/GfZqO7aJhm', u'RT @vintagesaturday: Reminder that you fundamentally cannot be a feminist if you are against sex work god bless', u'RT @cdnwomenfdn: We are hiring a Public Relations &amp; Online Engagement Coordinator! Deadline: Jan. 30th http://t.co/VftCdfI7TJ #PRjobs #Cana\\u2026', u'RT @ouijameme: reasons to be vegan:\\n-destruction of environment\\n-capitalism\\n-animal rights\\nnot reasons to be vegan\\n-feminism\\n-the female an\\u2026', u\"NEWSFLASH : Being A feminist doesn't mean you hate men or family values. You CAN be BOTH a feminist and a SAHM. Understood? #feminism\", u'RT @amaraconda: white feminism http://t.co/Ie3kQIV9pj', u'RT @AlexisDerikSmit: \"I don\\'t believe in feminism.\"\\n\\nSHUN THE NON BELIEVER. SHUNNN.', u'RT @NotAllBhas: White Feminist\\u2122 called out on racist appropriation responds, claiming she has no obligation to respect other cultures http:\\u2026', u'Wikipedia Wants To Ban Feminist Editors From GamerGate\\xa0Articles http://t.co/m1izvH4a4k', u\"The internet sometimes treats feminism like a constant contest about who has the 'best' feminism. And that's not my kind of feminism.\", u'African feminists making huge gains: http://t.co/sJ3NO941ms', u\"RT @MotherJones: That time badass feminist Queen Elizabeth gave Saudi Arabia's king a lesson in power http://t.co/tAcyoYZCAi http://t.co/OE\\u2026\", u'RT @kennedylryan: \"I figured that her opinion didn\\'t matter so I decided to be a creep anyways\" don\\'t call yourself a feminist mate @gerard\\u2026', u'@DazedCat agreed! Women can have big muscles too.#feminism #TheBachelor #takecareofyourbody', u'RT @CaseyG: \\u201cEverything I know about starting collaborative, feminist publications\\u201d by @ameliagreenhall is SO USEFUL. http://t.co/FxovEnsey\\u2026', u\"RT @kristeng43: Meninism is a mockery of feminism and is an example of how we can't request equality w/o guys making it about themselves tbh\", u'@amysgotmilk I started talking to this girl and we totally bonded over feminism so I was like http://t.co/4SWMp5sTyu', u'Contestant talks about her career. Bachelor gets confused because words. #feminism #TheBachelor', u'RT @HassamM_: I finally know what intersectional feminism is... after doing a reading on international relations.', u'RT @DrRavenswood: Is research (feminist)action? Find out Mon 2/2 Gender&amp;DiversityResearchGroup pre-AIRAANZ http://t.co/bQh6Xl3qr8 @AIRAANZ_\\u2026', u'if ur a strong feminist pls dm or fav or tweet me thx', u'we need a True face of Feminism &amp; I pick @EmWatson  not FemFreq Emma is for Equality not for herself or to demonize me based on gender', u'I think I would like 50 shades of grey better if it was the woman who was the dominant. #feminist', u\"Feminism isn't just for women. It's for equality for both men and women. Just because it has Fem in the name doesn't mean it's exclusionary\", u\"When a guy tells me they don't support feminism. http://t.co/be927zzBmO\", u\"@Republican_Mrs not to mention that the feminist movement accounts for and benefits men as well. Clearly you're misinformed.\", u\"I'm such a feminist cause my childhood consisted of watching Spice World on repeat #girlpower \\u270a\\U0001f481\", u'RT @cwissi: That meninist Twitter account promotes violence against women, misinterprets feminism, &amp; people actually follow &amp; support it. D\\u2026', u\"How hard is it for people to understand that feminism isn't supposed to hurt anyone? People with all sorts of genitalia can be nice, try it.\", u'RT @gingerest: FELLOW WHITE FEMINIST ATHEISTS: PLEASE DO NOT DO THIS (from @NotAllBhas) http://t.co/eCGG7yxKFj', u'RT @meganokay: Feminism is more than just cat calling and school dress code. people need to learn that. http://t.co/6GsV6XfaWU', u\"RT @blemur: when will dudes realize that feminism can help free from the BULLSHIT macho parade we're forced to put on all the time for othe\\u2026\", u'@MinkuMedia I was on one where this person told me they hate feminism after I told them I was a feminist. Got away fast.', u'If u think the feminism marches are just about \"getting naked\" you are so wrong', u'RT @RossalynWarren: \"I\\'m a black feminist but I feel that I am not being heard or represented in mainstream feminism\" - great project: http\\u2026', u\"@veganfem and your justification for extending feminism to animals ('females') is cissexist and a simplistic interpretation of feminism\", u'new slogan for feminism: pu$$y p0w3r', u'RT @thetrudz: You know my fav book by her? I know it\\'s \"supposed\" to be Women, Race &amp; Class but really it\\'s Blues Legacies and Black Femini\\u2026', u\"@feministallies If I wasn't invested in persuading people not to be sexist I wouldn't be much of an asset to feminism.\", u'as feminists we also need to break male stereotypes. we must remember that man-hating is in fact the opposite of feminism.', u'I am a feminist and I support the #HeForShe.', u\"I despise the fact that 'menimist' is even a thing \\U0001f612 it's honestly disrespectful and makes feminism seem like a joke\", u\"@theqbannon @KrisintheTARDIS not to be a 50s housewife cliche and set feminism back but what I wouldn't give for a rich husband right now.\", u'@emerylord Creme brulee. Ella Enchanted. feminism. #soulmate', u'RT @browhatt: \"feminism is gay\" yeah including the gay community in the feminist movement is actually really important', u'Candace needs to stop putting anti-feminism crap on my tl', u'hI if it annoys u I identify as feminist then like unfollow me like block me like go away why u even reading this to begin w', u'Highly recommended for its complicated characters and feminist heroine: The Fall:  Gillian Anderson\\u2019s BBC Series - http://t.co/Jd5iy1K7Ka', u'RT @miretxebarria: Happy birthday to the feminist and antiracist activist Angela Davis. http://t.co/LZhEqneqtr', u'RT @utt_jamie: Why Our Feminism Must Be Intersectional (And 3 Ways to Practice It) http://t.co/RSJCBv9H7Z', u'RT @qz: \\u201cFeminist\\u201d didn\\u2019t mean much to me until I was fired in my 9th month of pregnancy http://t.co/fjjklFcSEB The case for Obama\\u2019s child \\u2026', u'Feminist: the person who believes in political, social and economic equality of sexes', u'RT @_ataveira: I am a feminist \\u201c@cremelesa: feminist: a person who believes in the social, Political, and economic equality of the sexes.\\u201d', u'@dannahm97 this is why I need feminism', u\"People who say we don't need feminism  and everyone is already equal CLEARLY aren't aware of what's going on around the world.\", u'We need to focus more on transnational feminism in order to get a bigger picture and open our eyes to other nations view  #wmst2013', u\"RT @matthewbeasleyy: feminism doesn't only benefit the female sex. men are also deprived of equality, and the sad thing is that most of the\\u2026\", u'RT @ohgryffindor: @EmWatson How can a girl be against feminism??', u'RT @punkthetic: Just because someone identifies as a feminist doesnt mean that they hate men or are totally against \"girly things\"  like ma\\u2026', u'RT @v1ctorial: Misconceptions about feminism make me super sad. But people buying into misconceptions those and preaching them is even wors\\u2026', u'\"I\\'m a feminist but I still think the meninist account is funny! http://t.co/ZNxpTdqVdf', u\"RT @leilanigbbns: The people who bash feminism are the ones that 99% of the time don't know what it is\", u'http://t.co/8ZLL4ZcS5F dreamwurks:\\n\\nWhat feminism does for men: -Helps fight to end discrimination over men wea... http://t.co/VjButG3Vb1', u'I love how people think feminism is just for women hahah', u'That \"meninist\" twitter acc is ridiculous bc the whole point of feminism is equality, it\\'s not women thinking they\\'re superior', u\"RT @BrBabblingBooks: #Feminism does not kill, injure or destroy. Many other  belief systems do. Don't apologize for being a feminist. #YesA\\u2026\", u'apolkadotnerd: You\\u2019re just as feminist wearing a hijab as you are wearing a beanie. Wearing a religious... http://t.co/sx4LvkLiwu', u'\\u201c@snoozyloser: if ur a girl that is against feminism why r u voting. why r u wearing pants. how can u read\\u201d', u\"If you think a certain #feminist is 'too uppity' about rape, chances are she's a survivor who was never taken seriously. #RapeCulture\", u'If I had a dollar for every time some stupid american teenager tried to prove that feminism is not needed I could buy them all a education!', u\"What's so inhumane about wanting equal rights? #feminism\", u'RT @punkthetic: dont support feminism because its \"trendy\" on tumblr, support it because you morally believe in gender equality in all aspe\\u2026', u\"RT @ProWomanChoice: #INeedFeminismBecause I acknowledge it's 2015 and, incomprehensibly, women are still not equal to men. #YesALLWomen #fe\\u2026\", u'Teatime Social Review: Feminist Forum: Gender Equality http://t.co/cpy82ROMKC', u'RT @Marximillion_: Im not interested in anything that isnt feminism', u'RT @paracryptid: if yooooooureeeee not a feminist stay away from meeeeeeeeeee bc i dont rlly want people in my life who dont care about my \\u2026', u\"RT @yungclaudia: okay so how can u be female and NOT be a feminist?? i'll never comprehend how any female DOESN'T believe in BASIC human ri\\u2026\", u'\"feminism is the radical notion that women are human beings\"', u'Feminist : the person who believes in the social , political , and economic equality of the sexes .', u'Today on #TBH, Ollie Henderson on feminism, fashion and beauty, as well as her hopes for the future: http://t.co/xOeqoqPROk #starttheri...', u'RT @purrbunny: \\u2661 why I need feminism \\u2661 http://t.co/DOBrUzcfcS', u'RT @_BasedMistress: When you attempt to \"insult\" a feminist on the grounds of \"find a man\" trust that she\\'s not gonna give a fuck &amp; will te\\u2026', u\"WIKIPEDIA's credibility is seriously jeopardized by its ANTI-FEMINIST decision on GAMERGATE articles. Story here: http://t.co/kEyRN8KuS7\", u'RT @internetgirI: how are you going to be a FEMALE and be against feminism? that just proves you care more about male attention than equali\\u2026', u'RT @bdk0865: happy birthday to the president and worlds #1 feminist \\U0001f475 #nora @mckennakrogius http://t.co/7zAaIvFz87', u'RT @EmWatson: Thank you @ELLEUK for having me on the cover of the Feminism issue. My favourite magazine cover ever. LorraineELLE X http://t\\u2026', u'RT @purrbunny: \\u2661 why I need feminism \\u2661 http://t.co/DOBrUzcfcS', u\"@ockman24 Whats wrong with supporting women who are blamed for being raped? Lol u've got the wrong interpretation.   of what a feminist is.\", u'Is #TheFall  the most feminist show on television http://t.co/XThkHPxFdD', u'\"im a feminist\" means about as much to me as \"youre a socialist\"', u'RT @cmclymer: \"My partner isn\\'t a feminist.\"\\n\\n#RuinAWeddingIn5Words', u'RT @LaGrosera: FEMINISM 2k15 SOUNDS LIKE #REFLECTION. Welcome to the movement!', u\"@ZaidJilani Sadly, because so many men are misogynists these days, saying you're a feminist does matter.\", u'RT @wakana_584: Turn Your Princess-Obsessed Toddler Into A Feminist In Eight Easy Steps http://t.co/RSVJnTkw80 http://t.co/fEwnpsKPh1', u\"The only way to effect change is to stay true to your ideals. This Feminist gamer won't stop. Thanks @Totalbiscuit for the inspiration.\", u'do people realize that the book definition of feminism is literally http://t.co/1RdzrW7Zbp', u\"@ZaidJilani And I'm a social-democrat, for the record. And a feminist. Norway forever!\", u'Feminists forced Kaley Cuoco to apologize for not being a feminist. http://t.co/YJf0qzJTwp', u\"RT @hufinnej: My blk feminism is not about getting a seat at the table/getting a room in the white house. It's about creating an entirely n\\u2026\", u'I have at least five extremely feminist declamations written and like ten moderately feminist ones how do I stop', u'The fact that we have to argue that feminism is a valid movement is reason enough, if ur askin me', u\"It's also sad that they're unable/unwilling to scrutinize society, &amp; instead take the easy path of 'blame the women! Feminism is evil!'\", u'\"Hollywood\\'s most feminist film of the year\"', u'shOUT THIS FROM THE ROOFTOPS #FEMINISM http://t.co/MZSmYN9Tk4', u'I talked briefly about feminism with the president of Overstock today. So, that was interesting.', u'@disturbedfan132 I believe myself to be a feminist and tho I disagree with the new fem-fad, they sometimes make points.', u\"It's comments like this that oppress women and their equality rights. #YesAllWomen #feminism http://t.co/GeDZ9x3OyE\", u'when ppl compliment me on my feminism it makes me !!!!!!!!! inside', u'RT @Shieldmaiden143: I need #feminism because people still think the problem is that women get raped, not that men rape them. #YesAllWomen', u'remember like 6 months ago when no one talked about feminism', u'@mahumq @constibation not so. Huge grassroots feminist movement in India.', u'Under the continuous debate that feminism has little value in the 21st Century, guest blogger Tigele Nlebesi boldly\\u2026 http://t.co/5HEbL9xBYs', u\"don't ever dismiss Beyonc\\xe9 in ur feminist discourse simply bc she is a successful woman who is comfortable with expressing her sexuality\", u\"RT @ProWomanChoice: #INeedFeminismBecause I acknowledge it's 2015 and, incomprehensibly, women are still not equal to men. #YesALLWomen #fe\\u2026\", u\"I have this friend who wants me to teach him everything I know because he already identifies as feminist and HE'S SO CUTE \\u2764\\ufe0f\", u'If I did a vid on feminist philosophy, would u rather it be on metaphysics or epistemology? @ExtremelyBoring @ianinthebawks @archiducissa', u\"@natsasaulim I have nothing against her as a person. I heard she's great and smart and advocates for feminism. But girl can't act for shit!\", u\"RT @steveandbuckie: if your 'feminism' doesnt include trans women and women who are comfortable being sexual beings then you're doing it wr\\u2026\", u'brave honest beautiful is just a great feminist song in my opinion', u'@MeninistTweet *calmly picks up mic* Using rape to make fun of feminism only shows how convoluted and disgusting meninist thinking is.', u'RT @arcticanwxar: and if you claim \"\"religious evidence\"\" for your misogyny then you\\'re an idiot bc Islam completely backs up feminism.', u'phoneticmeow: davidthedeer: punkbeds: BOYS TO AVOID: -boys that are against feminism -boys that call girls... http://t.co/mEy4JSW1eu', u'IF YOU ARE A YOUNG LADY OUT THERE WHO BELITTLES FEMINISM PLEASE FEEL FREE TO JUST DEDUCT YOUR 77 CENTS IMMEDIATELY', u'The word \"Feminist\" has such a negative stigma attached to it and almost always is met with some sort of resistance. It\\'s really sad.', u'RT @arcticanwxar: do guys realize thAT EVERYONE SHOULD BE A FEMINIST', u\"cousin said she doesn't like that beyonce considers herself feminist when she tries 2 be sexy all the time &amp; i almost straight up decked her\", u\"I am a Christian and I believe in gay rights and feminism so can people stop saying you can't do both\", u\"I need feminism because my values shouldn't be based on my sexual history.\", u'RT @Iuckystarr: @vuhsace As a feminist I fight for the right to have a dick in me when ever I want', u'my biggest pet peeve is when young women bash feminism. ESPECIALLY women of color.', u'@PanchoTaffy @Kate2373 I am a cisgender feminist ally', u\"as a feminist you're supposed to empower other women not bring them down!\", u'@maryfduffy Feminist Theory, to be precise. Studying with Jane Tompkins and  Toril Moi and Barbara Hernstein-Smith. Life is passing strange.', u'Why Early Wonder Woman Was A Champion Of Feminism... And Bondage #wonderwoman http://t.co/L7yMZ0kUw0', u\"RT @nashwakay: Being sexually active or having sexual desire isn't a requisite for feminist practice, that assumption is grotesque &amp;  not i\\u2026\", u'So many different perspectives on feminism, this chapter interesting as hell', u'stop dismissing the importance of online activism just bc its not \"real life feminism\" whatever the fuck that means', u'RT @womenforaction: @TransgenderHULK Think u would like feature article on inclusiveness 4 transgender women within feminism http://t.co/Vp\\u2026', u\"RT @dadcult: what feminism is abt:\\n\\u2022 equality 4 all genders\\n\\u2022 fighting rape culture \\n\\u2022 defending women's rights\\nwhat feminism is not abt:\\n\\u2022\\u2026\", u'Interested to see how @EmWatson changes the female gender roles in Beauty &amp; the Beast. Disney classic + feminism = ?!', u'RT @Murr_burrs: Why men need #feminism http://t.co/23EpUIulbp', u\"RT @dadcult: what feminism is abt:\\n\\u2022 equality 4 all genders\\n\\u2022 fighting rape culture \\n\\u2022 defending women's rights\\nwhat feminism is not abt:\\n\\u2022\\u2026\", u\"@RemyNorth Believing that the sexes should be equal means you're a feminist. That's literally what the movement is about.\", u\"RT @washingtonpost: A new study says Ryan Gosling memes can increase men's feminist feelings http://t.co/jqmO57HQut http://t.co/1ymeprKUzl\", u'I need feminism because T. Swift is made fun of for her songs about past experiences but Robin Thicke is praised for his song about rape.', u\"RT @homelandsexuals: pssst... feminism fights for men's rights too... feminists just realize women face more problems than men... (but it h\\u2026\", u'RT @TheAVClub: Ryan Gosling memes make men more feminist, study shows http://t.co/1dvI13sP38 http://t.co/PPM8xRh3Hj']\n"
       ]
      }
     ],
     "prompt_number": 6
    },
    {
     "cell_type": "code",
     "collapsed": false,
     "input": [
      "from textstat.textstat import textstat\n",
      "str2 = ''.join(neg_tweets)\n",
      "\n",
      "if __name__ == '__main__':\n",
      "               test_data = str2\n",
      "        \n",
      "a= textstat.flesch_reading_ease(test_data)\n",
      "\n",
      "b= textstat.flesch_kincaid_grade(test_data)\n",
      "\n",
      "c= textstat.coleman_liau_index(test_data)\n",
      "\n",
      "d= textstat.automated_readability_index(test_data)\n",
      "\n",
      "\n",
      "e= textstat.linsear_write_formula(test_data)\n",
      "score = (a+b+c+d+e)/5\n",
      "print score"
     ],
     "language": "python",
     "metadata": {},
     "outputs": [
      {
       "output_type": "stream",
       "stream": "stdout",
       "text": [
        "19.488\n"
       ]
      }
     ],
     "prompt_number": 7
    },
    {
     "cell_type": "code",
     "collapsed": false,
     "input": [],
     "language": "python",
     "metadata": {},
     "outputs": []
    }
   ],
   "metadata": {}
  }
 ]
}