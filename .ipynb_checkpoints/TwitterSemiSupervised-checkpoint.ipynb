{
 "metadata": {
  "name": "",
  "signature": "sha256:59cb660d746090221be992216f962c798f3a0685d486dc238bef0c797db76ac7"
 },
 "nbformat": 3,
 "nbformat_minor": 0,
 "worksheets": [
  {
   "cells": [
    {
     "cell_type": "code",
     "collapsed": false,
     "input": [
      "import pymongo\n",
      "import tweepy\n",
      "import json\n",
      "from pymongo import MongoClient\n",
      "from bson.objectid import ObjectId\n",
      "\n",
      "client = MongoClient('c621.candidate.15.mongolayer.com', 10621)\n",
      "client.twitter.authenticate('hjc', 'Iamnumber1')\n",
      "db = client.twitter\n",
      "print db.collection_names()\n",
      "count = db.tweets.count()\n",
      "print db.tweets.find({'fem':1}).count() #neg\n",
      "print db.tweets.find({'fem':0}).count() #pos\n",
      "print db.tweets.find({\"fem\": {\"$exists\": False}}).count() #test"
     ],
     "language": "python",
     "metadata": {},
     "outputs": [
      {
       "output_type": "stream",
       "stream": "stdout",
       "text": [
        "[u'system.indexes', u'tweets', u'langs']\n",
        "217"
       ]
      },
      {
       "output_type": "stream",
       "stream": "stdout",
       "text": [
        "\n",
        "217"
       ]
      },
      {
       "output_type": "stream",
       "stream": "stdout",
       "text": [
        "\n",
        "30163"
       ]
      },
      {
       "output_type": "stream",
       "stream": "stdout",
       "text": [
        "\n"
       ]
      }
     ],
     "prompt_number": 20
    },
    {
     "cell_type": "code",
     "collapsed": false,
     "input": [
      "neg_tweets = [(doc['text']) for doc in db.tweets.find({'fem':1})] \n",
      "pos_tweets = [(doc['text']) for doc in db.tweets.find({'fem':0})] \n",
      "neg_sent =  [(doc['fem']) for doc in db.tweets.find({'fem':1})] \n",
      "pos_sent = [(doc['fem']) for doc in db.tweets.find({'fem':0})] "
     ],
     "language": "python",
     "metadata": {},
     "outputs": [],
     "prompt_number": 3
    },
    {
     "cell_type": "code",
     "collapsed": false,
     "input": [
      "sent = neg_sent + pos_sent\n"
     ],
     "language": "python",
     "metadata": {},
     "outputs": [],
     "prompt_number": 36
    },
    {
     "cell_type": "code",
     "collapsed": false,
     "input": [
      "from sklearn.feature_extraction.text import CountVectorizer\n",
      "vect = CountVectorizer(analyzer='char_wb', ngram_range=(2, 5), encoding=u'utf-8', stop_words='english')\n",
      "ngvText = vect.fit_transform(pos_tweets + neg_tweets)"
     ],
     "language": "python",
     "metadata": {},
     "outputs": [],
     "prompt_number": 5
    },
    {
     "cell_type": "code",
     "collapsed": false,
     "input": [
      "X_train, y_train = ngvText, sent\n"
     ],
     "language": "python",
     "metadata": {},
     "outputs": [],
     "prompt_number": 6
    },
    {
     "cell_type": "code",
     "collapsed": false,
     "input": [
      "test_tweets =[(doc['text']) for doc in db.tweets.find({\"fem\": {\"$exists\": False}})] "
     ],
     "language": "python",
     "metadata": {},
     "outputs": [],
     "prompt_number": 7
    },
    {
     "cell_type": "code",
     "collapsed": false,
     "input": [
      "\n",
      "X_test = vect.transform(test_tweets)\n"
     ],
     "language": "python",
     "metadata": {},
     "outputs": [],
     "prompt_number": 9
    },
    {
     "cell_type": "code",
     "collapsed": false,
     "input": [
      "from sklearn.naive_bayes import MultinomialNB\n",
      "from sklearn import metrics\n",
      "nb = MultinomialNB()\n",
      "nb.fit(X_train, y_train)\n",
      "\n"
     ],
     "language": "python",
     "metadata": {},
     "outputs": [
      {
       "metadata": {},
       "output_type": "pyout",
       "prompt_number": 10,
       "text": [
        "MultinomialNB(alpha=1.0, class_prior=None, fit_prior=True)"
       ]
      }
     ],
     "prompt_number": 10
    },
    {
     "cell_type": "code",
     "collapsed": false,
     "input": [
      "import numpy as np\n",
      "from __future__ import division\n",
      "predsMNB = nb.predict(X_test)\n",
      "nonzero = np.count_nonzero(predsMNB)\n",
      "print nonzero/count #percent negative\n",
      "\n"
     ],
     "language": "python",
     "metadata": {},
     "outputs": [
      {
       "output_type": "stream",
       "stream": "stdout",
       "text": [
        "0.586920286303\n"
       ]
      }
     ],
     "prompt_number": 29
    },
    {
     "cell_type": "code",
     "collapsed": false,
     "input": [
      "from sklearn.naive_bayes import BernoulliNB\n",
      "clf = BernoulliNB()\n",
      "clf.fit(X_train, y_train)"
     ],
     "language": "python",
     "metadata": {},
     "outputs": [
      {
       "metadata": {},
       "output_type": "pyout",
       "prompt_number": 31,
       "text": [
        "BernoulliNB(alpha=1.0, binarize=0.0, class_prior=None, fit_prior=True)"
       ]
      }
     ],
     "prompt_number": 31
    },
    {
     "cell_type": "code",
     "collapsed": false,
     "input": [
      "predsBNB= clf.predict(X_test)\n",
      "nonzero2 = np.count_nonzero(predsBNB)\n",
      "print nonzero2/count #percent negative"
     ],
     "language": "python",
     "metadata": {},
     "outputs": [
      {
       "output_type": "stream",
       "stream": "stdout",
       "text": [
        "0.56355198222\n"
       ]
      }
     ],
     "prompt_number": 32
    },
    {
     "cell_type": "code",
     "collapsed": false,
     "input": [
      "from sklearn import metrics\n",
      "from sklearn.cross_validation import cross_val_score \n",
      "cross_val_score(nb, X_test, predsMNB).mean()"
     ],
     "language": "python",
     "metadata": {},
     "outputs": [
      {
       "metadata": {},
       "output_type": "pyout",
       "prompt_number": 99,
       "text": [
        "0.73344838584390848"
       ]
      }
     ],
     "prompt_number": 99
    },
    {
     "cell_type": "code",
     "collapsed": false,
     "input": [
      "cross_val_score(clf, X_test, predsBNB).mean()"
     ],
     "language": "python",
     "metadata": {},
     "outputs": [
      {
       "metadata": {},
       "output_type": "pyout",
       "prompt_number": 93,
       "text": [
        "0.7164706089715227"
       ]
      }
     ],
     "prompt_number": 93
    },
    {
     "cell_type": "code",
     "collapsed": false,
     "input": [
      "from sklearn.feature_extraction.text import TfidfVectorizer, TfidfTransformer\n",
      "from sklearn.linear_model import LogisticRegression \n",
      "logreg = LogisticRegression()\n",
      "logreg = logreg.fit(X_train, y_train)\n",
      "predlog = logreg.predict(X_test)\n",
      "nonzero3 = np.count_nonzero(predlog)\n",
      "print nonzero3/count #percent negative"
     ],
     "language": "python",
     "metadata": {},
     "outputs": [
      {
       "output_type": "stream",
       "stream": "stdout",
       "text": [
        "0.515246592803\n"
       ]
      }
     ],
     "prompt_number": 33
    },
    {
     "cell_type": "code",
     "collapsed": false,
     "input": [
      "cross_val_score(logreg, X_test, predlog).mean() #BEST"
     ],
     "language": "python",
     "metadata": {},
     "outputs": [
      {
       "metadata": {},
       "output_type": "pyout",
       "prompt_number": 95,
       "text": [
        "0.95932128943618267"
       ]
      }
     ],
     "prompt_number": 95
    },
    {
     "cell_type": "code",
     "collapsed": false,
     "input": [
      "from sklearn.svm import LinearSVC\n",
      "from sklearn import svm\n",
      "\n",
      "transformer = TfidfTransformer()\n",
      "#turns into sparse array\n",
      "X_train_tfidf = transformer.fit_transform(X_train)\n",
      "X_test_tfidf = transformer.fit_transform(X_test)\n",
      "\n",
      "svm = LinearSVC()\n",
      "svm.fit(X_train_tfidf, y_train)\n",
      "predsLSVC = svm.predict(X_test_tfidf)\n",
      "cross_val_score(svm, X_test_tfidf, predsLSVC, cv=5).mean() #Second Best\n",
      "nonzero4 = np.count_nonzero(predsLSVC)\n",
      "print nonzero4/count #percent negative"
     ],
     "language": "python",
     "metadata": {},
     "outputs": [
      {
       "ename": "NameError",
       "evalue": "name 'cross_val_score' is not defined",
       "output_type": "pyerr",
       "traceback": [
        "\u001b[0;31m---------------------------------------------------------------------------\u001b[0m\n\u001b[0;31mNameError\u001b[0m                                 Traceback (most recent call last)",
        "\u001b[0;32m<ipython-input-34-9adada274792>\u001b[0m in \u001b[0;36m<module>\u001b[0;34m()\u001b[0m\n\u001b[1;32m     10\u001b[0m \u001b[0msvm\u001b[0m\u001b[0;34m.\u001b[0m\u001b[0mfit\u001b[0m\u001b[0;34m(\u001b[0m\u001b[0mX_train_tfidf\u001b[0m\u001b[0;34m,\u001b[0m \u001b[0my_train\u001b[0m\u001b[0;34m)\u001b[0m\u001b[0;34m\u001b[0m\u001b[0m\n\u001b[1;32m     11\u001b[0m \u001b[0mpredsLSVC\u001b[0m \u001b[0;34m=\u001b[0m \u001b[0msvm\u001b[0m\u001b[0;34m.\u001b[0m\u001b[0mpredict\u001b[0m\u001b[0;34m(\u001b[0m\u001b[0mX_test_tfidf\u001b[0m\u001b[0;34m)\u001b[0m\u001b[0;34m\u001b[0m\u001b[0m\n\u001b[0;32m---> 12\u001b[0;31m \u001b[0mcross_val_score\u001b[0m\u001b[0;34m(\u001b[0m\u001b[0msvm\u001b[0m\u001b[0;34m,\u001b[0m \u001b[0mX_test_tfidf\u001b[0m\u001b[0;34m,\u001b[0m \u001b[0mpredsLSVC\u001b[0m\u001b[0;34m,\u001b[0m \u001b[0mcv\u001b[0m\u001b[0;34m=\u001b[0m\u001b[0;36m5\u001b[0m\u001b[0;34m)\u001b[0m\u001b[0;34m.\u001b[0m\u001b[0mmean\u001b[0m\u001b[0;34m(\u001b[0m\u001b[0;34m)\u001b[0m \u001b[0;31m#Second Best\u001b[0m\u001b[0;34m\u001b[0m\u001b[0m\n\u001b[0m\u001b[1;32m     13\u001b[0m \u001b[0mnonzero4\u001b[0m \u001b[0;34m=\u001b[0m \u001b[0mnp\u001b[0m\u001b[0;34m.\u001b[0m\u001b[0mcount_nonzero\u001b[0m\u001b[0;34m(\u001b[0m\u001b[0mpredsLSVC\u001b[0m\u001b[0;34m)\u001b[0m\u001b[0;34m\u001b[0m\u001b[0m\n\u001b[1;32m     14\u001b[0m \u001b[0;32mprint\u001b[0m \u001b[0mnonzero4\u001b[0m\u001b[0;34m/\u001b[0m\u001b[0mcount\u001b[0m \u001b[0;31m#percent negative\u001b[0m\u001b[0;34m\u001b[0m\u001b[0m\n",
        "\u001b[0;31mNameError\u001b[0m: name 'cross_val_score' is not defined"
       ]
      }
     ],
     "prompt_number": 34
    },
    {
     "cell_type": "code",
     "collapsed": false,
     "input": [
      "from sklearn.naive_bayes import MultinomialNB\n",
      "from sklearn import metrics\n",
      "nb2 = MultinomialNB()\n",
      "nb2.fit(X_train_tfidf, y_train)\n",
      "predsMNBT = nb2.predict(X_test_tfidf)\n",
      "cross_val_score(nb2, X_test_tfidf, predsMNBT, cv=5).mean()"
     ],
     "language": "python",
     "metadata": {},
     "outputs": [
      {
       "metadata": {},
       "output_type": "pyout",
       "prompt_number": 100,
       "text": [
        "0.80946419080180332"
       ]
      }
     ],
     "prompt_number": 100
    },
    {
     "cell_type": "code",
     "collapsed": false,
     "input": [
      "from sklearn.naive_bayes import BernoulliNB\n",
      "clf2 = BernoulliNB()\n",
      "clf2.fit(X_train_tfidf, y_train)\n",
      "predsBNBT = clf2.predict(X_test_tfidf)\n",
      "cross_val_score(clf2, X_test_tfidf, predsBNBT, cv=5).mean()"
     ],
     "language": "python",
     "metadata": {},
     "outputs": [
      {
       "metadata": {},
       "output_type": "pyout",
       "prompt_number": 101,
       "text": [
        "0.77090784065183482"
       ]
      }
     ],
     "prompt_number": 101
    },
    {
     "cell_type": "code",
     "collapsed": false,
     "input": [
      "from sklearn.feature_extraction.text import TfidfVectorizer, TfidfTransformer\n",
      "from sklearn.linear_model import LogisticRegression \n",
      "logreg2 = LogisticRegression()\n",
      "logreg2 = logreg2.fit(X_train_tfidf, y_train)\n",
      "predlog2 = logreg2.predict(X_test_tfidf)\n",
      "cross_val_score(logreg2, X_test_tfidf, predlog2).mean() #BEST"
     ],
     "language": "python",
     "metadata": {},
     "outputs": [
      {
       "metadata": {},
       "output_type": "pyout",
       "prompt_number": 104,
       "text": [
        "0.91791254789197174"
       ]
      }
     ],
     "prompt_number": 104
    },
    {
     "cell_type": "code",
     "collapsed": false,
     "input": [],
     "language": "python",
     "metadata": {},
     "outputs": []
    }
   ],
   "metadata": {}
  }
 ]
}