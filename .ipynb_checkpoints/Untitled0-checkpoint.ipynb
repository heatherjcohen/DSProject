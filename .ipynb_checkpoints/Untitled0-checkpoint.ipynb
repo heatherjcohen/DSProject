{
 "metadata": {
  "name": "",
  "signature": "sha256:74b61df87d0d7f488b17d6b2b69d4ba42ca65b88df5733fa302d05a1b33bd10c"
 },
 "nbformat": 3,
 "nbformat_minor": 0,
 "worksheets": []
}