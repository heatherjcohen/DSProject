{
 "metadata": {
  "name": "",
  "signature": "sha256:4cb4699a774d47cbb80a4393884d89bd096f5cdd6136f207c808b22151a12abd"
 },
 "nbformat": 3,
 "nbformat_minor": 0,
 "worksheets": [
  {
   "cells": [
    {
     "cell_type": "code",
     "collapsed": false,
     "input": [
      "import pymongo\n",
      "import tweepy\n",
      "import json\n",
      "from pymongo import MongoClient\n",
      "from bson.objectid import ObjectId\n",
      "from sklearn import cross_validation\n",
      "client = MongoClient('localhost',27017)\n",
      "\n",
      "db = client.dump\n",
      "print db.collection_names()\n",
      "count = db.tweets.count()\n",
      "print db.tweets.find({'fem':1}).count() #neg\n",
      "print db.tweets.find({'fem':0}).count() #pos\n",
      "print db.tweets.find({\"fem\": {\"$exists\": False}}).count() #test"
     ],
     "language": "python",
     "metadata": {},
     "outputs": [
      {
       "output_type": "stream",
       "stream": "stdout",
       "text": [
        "[u'langs', u'system.indexes', u'tweets']\n",
        "217\n",
        "217"
       ]
      },
      {
       "output_type": "stream",
       "stream": "stdout",
       "text": [
        "\n",
        "30163\n"
       ]
      }
     ],
     "prompt_number": 3
    },
    {
     "cell_type": "code",
     "collapsed": false,
     "input": [
      "neg_tweets = [(doc['text']) for doc in db.tweets.find({'fem':1})] \n",
      "pos_tweets = [(doc['text']) for doc in db.tweets.find({'fem':0})] \n",
      "neg_sent =  [(doc['fem']) for doc in db.tweets.find({'fem':1})] \n",
      "pos_sent = [(doc['fem']) for doc in db.tweets.find({'fem':0})] "
     ],
     "language": "python",
     "metadata": {},
     "outputs": [],
     "prompt_number": 2
    },
    {
     "cell_type": "code",
     "collapsed": false,
     "input": [
      "sent = neg_sent + pos_sent\n"
     ],
     "language": "python",
     "metadata": {},
     "outputs": [],
     "prompt_number": 5
    },
    {
     "cell_type": "code",
     "collapsed": false,
     "input": [
      "from sklearn.feature_extraction.text import CountVectorizer\n",
      "vect = CountVectorizer(analyzer='char_wb', ngram_range=(2, 5), encoding=u'utf-8', stop_words='english')\n",
      "ngvText = vect.fit_transform(pos_tweets + neg_tweets)"
     ],
     "language": "python",
     "metadata": {},
     "outputs": [],
     "prompt_number": 6
    },
    {
     "cell_type": "code",
     "collapsed": false,
     "input": [
      "new_tweets =[(doc['text']) for doc in db.tweets.find({\"fem\": {\"$exists\": False}})]\n"
     ],
     "language": "python",
     "metadata": {},
     "outputs": [],
     "prompt_number": 8
    },
    {
     "cell_type": "code",
     "collapsed": false,
     "input": [
      "X_train, X_test, y_train, y_test = cross_validation.train_test_split(ngvText, sent, random_state=0)\n"
     ],
     "language": "python",
     "metadata": {},
     "outputs": [],
     "prompt_number": 14
    },
    {
     "cell_type": "code",
     "collapsed": false,
     "input": [
      "\n",
      "pred_tweets = vect.transform(new_tweets)\n"
     ],
     "language": "python",
     "metadata": {},
     "outputs": [],
     "prompt_number": 15
    },
    {
     "cell_type": "code",
     "collapsed": false,
     "input": [
      "from sklearn.naive_bayes import MultinomialNB\n",
      "from sklearn import metrics\n",
      "nb = MultinomialNB()\n",
      "nb.fit(X_train, y_train)\n",
      "print nb.classes_\n",
      "print nb.score(X_test, y_test)  "
     ],
     "language": "python",
     "metadata": {},
     "outputs": [
      {
       "output_type": "stream",
       "stream": "stdout",
       "text": [
        "[0 1]\n",
        "0.642201834862\n"
       ]
      }
     ],
     "prompt_number": 30
    },
    {
     "cell_type": "code",
     "collapsed": false,
     "input": [
      "import numpy as np\n",
      "from __future__ import division\n",
      "predsMNB = nb.predict(pred_tweets)\n",
      "nonzero = np.count_nonzero(predsMNB)\n",
      "print nonzero/count #percent negative\n",
      "\n",
      "from sklearn import metrics\n",
      "from sklearn.cross_validation import cross_val_score \n",
      "scores = cross_val_score(nb, X_test, y_test, cv=10).mean()\n",
      "print(\"Accuracy: %0.2f (+/- %0.2f)\" % (scores.mean(), scores.std() * 2))\n"
     ],
     "language": "python",
     "metadata": {},
     "outputs": [
      {
       "output_type": "stream",
       "stream": "stdout",
       "text": [
        "0.576853939929\n",
        "Accuracy: 0.52 (+/- 0.00)\n"
       ]
      }
     ],
     "prompt_number": 53
    },
    {
     "cell_type": "code",
     "collapsed": false,
     "input": [
      "from sklearn.naive_bayes import BernoulliNB\n",
      "clf = BernoulliNB()\n",
      "clf.fit(X_train, y_train)\n",
      "print clf.score(X_test, y_test)\n",
      "scores = cross_val_score(clf, X_test, y_test, cv=10).mean()\n",
      "print(\"Accuracy: %0.2f (+/- %0.2f)\" % (scores.mean(), scores.std() * 2))\n"
     ],
     "language": "python",
     "metadata": {},
     "outputs": [
      {
       "output_type": "stream",
       "stream": "stdout",
       "text": [
        "0.623853211009\n",
        "Accuracy: 0.53 (+/- 0.00)"
       ]
      },
      {
       "output_type": "stream",
       "stream": "stdout",
       "text": [
        "\n"
       ]
      }
     ],
     "prompt_number": 62
    },
    {
     "cell_type": "code",
     "collapsed": false,
     "input": [
      "predsBNB= clf.predict(pred_tweets)\n",
      "nonzero2 = np.count_nonzero(predsBNB)\n",
      "print nonzero2/count #percent negative"
     ],
     "language": "python",
     "metadata": {},
     "outputs": [
      {
       "output_type": "stream",
       "stream": "stdout",
       "text": [
        "0.488806092101\n"
       ]
      }
     ],
     "prompt_number": 57
    },
    {
     "cell_type": "code",
     "collapsed": false,
     "input": [
      "from sklearn.feature_extraction.text import TfidfVectorizer, TfidfTransformer\n",
      "from sklearn.linear_model import LogisticRegression \n",
      "logreg = LogisticRegression()\n",
      "logreg = logreg.fit(X_train, y_train)\n",
      "predlog = logreg.predict(pred_tweets)\n",
      "nonzero3 = np.count_nonzero(predlog)\n",
      "print nonzero3/count #percent negative\n",
      "print logreg.score(X_test, y_test)"
     ],
     "language": "python",
     "metadata": {},
     "outputs": [
      {
       "output_type": "stream",
       "stream": "stdout",
       "text": [
        "0.534529529039\n",
        "0.577981651376\n"
       ]
      }
     ],
     "prompt_number": 63
    },
    {
     "cell_type": "code",
     "collapsed": false,
     "input": [
      "scores = cross_val_score(logreg, X_test, y_test, cv=10).mean()\n",
      "print(\"Accuracy: %0.2f (+/- %0.2f)\" % (scores.mean(), scores.std() * 2))\n"
     ],
     "language": "python",
     "metadata": {},
     "outputs": [
      {
       "output_type": "stream",
       "stream": "stdout",
       "text": [
        "Accuracy: 0.55 (+/- 0.00)\n"
       ]
      }
     ],
     "prompt_number": 37
    },
    {
     "cell_type": "code",
     "collapsed": false,
     "input": [
      "from sklearn.svm import LinearSVC\n",
      "from sklearn import svm\n",
      "\n",
      "transformer = TfidfTransformer()\n",
      "#turns into sparse array\n",
      "X_train_tfidf = transformer.fit_transform(X_train)\n",
      "X_test_tfidf = transformer.fit_transform(X_test)\n",
      "X_new_data = transformer.fit_transform(pred_tweets)\n",
      "\n",
      "svm = LinearSVC()\n",
      "svm.fit(X_train_tfidf, y_train)\n",
      "predsLSVC = svm.predict(X_new_data)\n",
      "nonzero4 = np.count_nonzero(predsLSVC)\n",
      "print nonzero4/count #percent negative\n",
      "\n",
      "\n",
      "scores = cross_val_score(svm, X_test, y_test, cv=10).mean()\n",
      "print(\"Accuracy: %0.2f (+/- %0.2f)\" % (scores.mean(), scores.std() * 2))\n"
     ],
     "language": "python",
     "metadata": {},
     "outputs": [
      {
       "output_type": "stream",
       "stream": "stdout",
       "text": [
        "0.519789521849\n",
        "Accuracy: 0.58 (+/- 0.00)"
       ]
      },
      {
       "output_type": "stream",
       "stream": "stdout",
       "text": [
        "\n"
       ]
      }
     ],
     "prompt_number": 65
    },
    {
     "cell_type": "code",
     "collapsed": false,
     "input": [
      "from sklearn.naive_bayes import MultinomialNB\n",
      "from sklearn import metrics\n",
      "nb2 = MultinomialNB()\n",
      "nb2.fit(X_train_tfidf, y_train)\n",
      "predsMNBT = nb2.predict(X_new_data)\n",
      "scores = cross_val_score(nb2, X_test, y_test, cv=10).mean()\n",
      "print(\"Accuracy: %0.2f (+/- %0.2f)\" % (scores.mean(), scores.std() * 2))"
     ],
     "language": "python",
     "metadata": {},
     "outputs": [
      {
       "output_type": "stream",
       "stream": "stdout",
       "text": [
        "Accuracy: 0.52 (+/- 0.00)\n"
       ]
      }
     ],
     "prompt_number": 59
    },
    {
     "cell_type": "code",
     "collapsed": false,
     "input": [
      "from sklearn.naive_bayes import BernoulliNB\n",
      "clf2 = BernoulliNB()\n",
      "clf2.fit(X_train_tfidf, y_train)\n",
      "predsBNBT = clf2.predict(X_new_data)\n",
      "scores = cross_val_score(clf2, X_test, y_test, cv=10).mean()\n",
      "print(\"Accuracy: %0.2f (+/- %0.2f)\" % (scores.mean(), scores.std() * 2))"
     ],
     "language": "python",
     "metadata": {},
     "outputs": [
      {
       "output_type": "stream",
       "stream": "stdout",
       "text": [
        "Accuracy: 0.53 (+/- 0.00)\n"
       ]
      }
     ],
     "prompt_number": 60
    },
    {
     "cell_type": "code",
     "collapsed": false,
     "input": [
      "from sklearn.feature_extraction.text import TfidfVectorizer, TfidfTransformer\n",
      "from sklearn.linear_model import LogisticRegression \n",
      "logreg2 = LogisticRegression()\n",
      "logreg2 = logreg2.fit(X_train_tfidf, y_train)\n",
      "predlog2 = logreg2.predict(X_new_data)\n",
      "scores = cross_val_score(logreg2, X_test, y_test, cv=10).mean()\n",
      "print(\"Accuracy: %0.2f (+/- %0.2f)\" % (scores.mean(), scores.std() * 2))"
     ],
     "language": "python",
     "metadata": {},
     "outputs": [
      {
       "output_type": "stream",
       "stream": "stdout",
       "text": [
        "Accuracy: 0.55 (+/- 0.00)\n"
       ]
      }
     ],
     "prompt_number": 61
    },
    {
     "cell_type": "code",
     "collapsed": false,
     "input": [],
     "language": "python",
     "metadata": {},
     "outputs": []
    }
   ],
   "metadata": {}
  }
 ]
}