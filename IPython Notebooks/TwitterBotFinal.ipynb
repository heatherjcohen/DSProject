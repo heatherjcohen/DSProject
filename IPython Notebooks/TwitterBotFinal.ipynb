{
 "cells": [
  {
   "cell_type": "code",
   "execution_count": null,
   "metadata": {},
   "outputs": [],
   "source": [
    "from tweepy.streaming import StreamListener\n",
    "from tweepy import OAuthHandler\n",
    "from tweepy import Stream\n",
    "import pymongo\n",
    "import tweepy\n",
    "import json\n",
    "\n",
    "#Variables that contains the user credentials to access Twitter API \n",
    "from Creds import access_key, access_secret, consumer_key, consumer_secret, password\n",
    "\n",
    "#Runs auth to Twitter API\n",
    "auth = tweepy.OAuthHandler(consumer_key, consumer_secret)\n",
    "auth.set_access_token(access_key, access_secret)\n",
    "api = tweepy.API(auth)\n",
    "\n",
    "\n",
    "#This is a basic listener that will print incoming data to stdout\n",
    "class StdOutListener(StreamListener):\n",
    "\n",
    "    def on_data(self, data):\n",
    "        print(data)\n",
    "        return True\n",
    "\n",
    "    def on_error(self, status):\n",
    "        print(status)\n",
    "\n",
    "\n",
    "#Customizes the stream and saves text and lang to databases \n",
    "class CustomStreamListener(tweepy.StreamListener):\n",
    "    def __init__(self, api):\n",
    "        self.api = api\n",
    "        super(tweepy.StreamListener, self).__init__()\n",
    "        self.db = pymongo.MongoClient('c621.candidate.15.mongolayer.com', 10621).twitter\n",
    "        self.db.authenticate('hjc', password)\n",
    "    \n",
    "    \n",
    "    def on_data(self, data):\n",
    "        jd = json.loads(data)\n",
    "        if jd.has_key('text'):\n",
    "            self.db.tweets.insert( { 'text' : jd['text'],  'lang' : jd['lang'] } )\n",
    "               \n",
    "\n",
    "    def on_error(self, status_code):\n",
    "        return True # Don't kill the stream\n",
    "\n",
    "    def on_timeout(self):\n",
    "        return True # Don't kill the stream\n",
    "\n",
    "#Calls on StreamListerner and provides specifications of tracking\n",
    "l = tweepy.streaming.Stream(auth, CustomStreamListener(api))\n",
    "l.filter(track=['feminism', 'feminist'], languages =['en'])"
   ]
  },
  {
   "cell_type": "code",
   "execution_count": 1,
   "metadata": {},
   "outputs": [],
   "source": []
  },
  {
   "cell_type": "code",
   "execution_count": null,
   "metadata": {},
   "outputs": [],
   "source": []
  }
 ],
 "metadata": {
  "kernelspec": {
   "display_name": "Python 3",
   "language": "python",
   "name": "python3"
  },
  "language_info": {
   "codemirror_mode": {
    "name": "ipython",
    "version": 3
   },
   "file_extension": ".py",
   "mimetype": "text/x-python",
   "name": "python",
   "nbconvert_exporter": "python",
   "pygments_lexer": "ipython3",
   "version": "3.7.6"
  }
 },
 "nbformat": 4,
 "nbformat_minor": 1
}
