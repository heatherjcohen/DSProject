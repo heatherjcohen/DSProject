{
 "metadata": {
  "name": "",
  "signature": "sha256:1ba3c315cb636ca40fe9f20f430498dd1730f8ee7a098a6c95dbabeaf4c61a30"
 },
 "nbformat": 3,
 "nbformat_minor": 0,
 "worksheets": [
  {
   "cells": [
    {
     "cell_type": "code",
     "collapsed": false,
     "input": [
      "import pymongo\n",
      "import tweepy\n",
      "import json\n",
      "from pymongo import MongoClient\n",
      "from bson.objectid import ObjectId\n",
      "from sklearn.feature_extraction.text import CountVectorizer\n",
      "from sklearn import metrics\n",
      "from sklearn import cross_validation\n",
      "\n",
      "from sklearn.cluster import MiniBatchKMeans\n",
      "\n",
      "from sklearn.preprocessing import Normalizer\n",
      "\n",
      "client = MongoClient('localhost',27017)\n",
      "\n",
      "db = client.dump"
     ],
     "language": "python",
     "metadata": {},
     "outputs": [],
     "prompt_number": 6
    },
    {
     "cell_type": "code",
     "collapsed": false,
     "input": [
      "db.collection_names()"
     ],
     "language": "python",
     "metadata": {},
     "outputs": [
      {
       "metadata": {},
       "output_type": "pyout",
       "prompt_number": 7,
       "text": [
        "[u'langs', u'system.indexes', u'tweets']"
       ]
      }
     ],
     "prompt_number": 7
    },
    {
     "cell_type": "code",
     "collapsed": false,
     "input": [
      "neg_tweets = [(doc['text']) for doc in db.tweets.find({'fem':1})] \n",
      "pos_tweets = [(doc['text']) for doc in db.tweets.find({'fem':0})] \n",
      "neg_sent =  [(doc['fem']) for doc in db.tweets.find({'fem':1})] \n",
      "pos_sent = [(doc['fem']) for doc in db.tweets.find({'fem':0})] \n",
      "sent = neg_sent + pos_sent\n",
      "all_tweets= [(doc['text']) for doc in db.tweets.find({\"text\": {\"$exists\":True}})] \n",
      "train = neg_tweets + pos_tweets\n",
      "from sklearn.feature_extraction.text import CountVectorizer\n",
      "vect = CountVectorizer(analyzer='char_wb', ngram_range=(2, 5), encoding=u'utf-8', stop_words='english', max_features=10000)\n",
      "ngvText = vect.fit_transform(all_tweets)\n"
     ],
     "language": "python",
     "metadata": {},
     "outputs": [],
     "prompt_number": 184
    },
    {
     "cell_type": "code",
     "collapsed": false,
     "input": [
      "from itertools import chain\n",
      "from gensim import corpora, models, similarities\n",
      "import nltk\n",
      "from nltk.corpus import stopwords\n",
      "from operator import itemgetter\n",
      "import re\n",
      "\n",
      "\n",
      "\n",
      "documents = all_tweets\n",
      "stoplist = set(stopwords.words(\"english\"))\n",
      "#add custom words\n",
      "stoplist.update(('feminist', ' &amp;', 'rt', 'RT', '&','feminism', 'feminism\"', 'feminist.\"', 'feminist.\u201d','feminist?' ,'feminists.', 'feminist,', 'feminist\"','feminism,','feminism?', 'feminists', 'feminism.','#feminism','feminist:', '\"feminism', 'feminist.'))\n",
      "\n",
      "texts = [[word for word in document.lower().split() if word not in stoplist] # len adjust\n",
      " for document in documents]\n",
      "dictionary = corpora.Dictionary(texts)\n",
      "corpus = [dictionary.doc2bow(text) for text in texts]\n",
      "\n",
      "\n",
      "traintext = [[word for word in document.lower().split() if word not in stoplist] # len adjust\n",
      " for document in train]\n",
      "dictionary2 = corpora.Dictionary(texts)\n",
      "corpus2 = [dictionary.doc2bow(text) for text in traintext]\n"
     ],
     "language": "python",
     "metadata": {},
     "outputs": [],
     "prompt_number": 191
    },
    {
     "cell_type": "code",
     "collapsed": false,
     "input": [
      "from collections import Counter\n",
      "Counter(all_tweets).most_common(50)\n"
     ],
     "language": "python",
     "metadata": {},
     "outputs": [
      {
       "metadata": {},
       "output_type": "pyout",
       "prompt_number": 215,
       "text": [
        "[(u'RT @MeninistTweet: Today, a feminist asked me how I view lesbian relationships... \\n\\nApparently \"in HD\" was not the right answer',\n",
        "  1745),\n",
        " (u'RT @vanbadham: Why feminism? Because you can sell 30 MILLION copies of a single book and when you die, The Australian prints this: http://t\\u2026',\n",
        "  982),\n",
        " (u'RT @JessicaKRoy: finally a feminist snowstorm http://t.co/QOYa214jdE',\n",
        "  671),\n",
        " (u'RT @pompateorisi: Sabahlar\\u0131 g\\xfcnayd\\u0131n mesaj\\u0131 alamayan k\\u0131zda \\xf6\\u011flenine feminist oluyor...',\n",
        "  456),\n",
        " (u\"RT @vanbadham: Why feminism? Because she was ALSO a FREAKIN' NEUROPHYSICIST at YALE &amp; this is how The Australian begins her obituary http:/\\u2026\",\n",
        "  419),\n",
        " (u\"RT @tyleroakley: feminism is good. @femsplain is good.\\n\\nget into it, y'all: https://t.co/vSBFIQW9Dv\",\n",
        "  233),\n",
        " (u\"RT @YesMeninism: I need meninism because it's so much easier to pretend women cause all my problems than to admit what I actually need is f\\u2026\",\n",
        "  204),\n",
        " (u\"RT @redlianak: Criticize Feminist Frequency, get labelled an MRA/transphobe. That's not feminism thanks. That's just bullying. http://t.co/\\u2026\",\n",
        "  203),\n",
        " (u'RT @PressedOrgandy: MT- @vanbadham: Why feminism? Because she was a NEUROPHYSICIST at YALE and this is how her obituary begins: http://t.co\\u2026',\n",
        "  180),\n",
        " (u'RT @amaraconda: white feminism http://t.co/Ie3kQIV9pj', 159),\n",
        " (u\"RT @awmarissa: Girls who shit on feminism need a reality check you're literally pushing things back. How can you be against equal rights fo\\u2026\",\n",
        "  156),\n",
        " (u'RT @NotAllBhas: White Feminist\\u2122 called out on racist appropriation responds, claiming she has no obligation to respect other cultures http:\\u2026',\n",
        "  154),\n",
        " (u'RT @MajorPhilebrity: F.H: Fifth Harmony or Feminist Heroes?', 149),\n",
        " (u'RT @snoozyloser: if ur a girl that is against feminism why r u voting. why r u wearing pants. how can u read',\n",
        "  136),\n",
        " (u\"RT @hayleyestxlle: Feminism has never made me hate men but men's reaction to feminism definitely has.\",\n",
        "  129),\n",
        " (u'RT @sempiternal_: \"We dont need feminism\" sure we don\\'t http://t.co/iWw9fFI662',\n",
        "  127),\n",
        " (u'RT @MeganStarbird_: #TweetLikeALocal feminism is dumb and american sniper is the best movie in the world',\n",
        "  124),\n",
        " (u\"RT @5HonTour: Top 10 Fiercely Feminist Lyrics On Fifth Harmony's 'Reflection' via @fusetv http://t.co/W9FHOe5yux\",\n",
        "  119),\n",
        " (u'RT @OGTREEZ: Everytime you say feminist you gotta say men too.', 95),\n",
        " (u'RT @RudeComedian: Today, a feminist asked me how I view lesbian relationships... \\n\\nApparently \"in HD\" was not the right answer',\n",
        "  87),\n",
        " (u\"RT @neilyourself: Here's why I don't take feminism seriously: the juggling, the pies, the huge shoes and red noses. This is supposed to be \\u2026\",\n",
        "  83),\n",
        " (u'RT @AnneHathabae: Congratulations to the lovely, intelligent, feminist, and talented indie queen, Kristen Stewart on her C\\xe9sar nominations.\\u2026',\n",
        "  70),\n",
        " (u\"RT @neilyourself: Here's what Feminism gets wrong: There's no legitimate, scientific evidence that the Earth is hollow. Period. Sorry, femi\\u2026\",\n",
        "  64),\n",
        " (u'RT @MeninistTweet: Finally a feminist snow storm! http://t.co/AeyUQTBscB',\n",
        "  63),\n",
        " (u'RT @LaGrosera: FEMINISM 2k15 SOUNDS LIKE #REFLECTION. Welcome to the movement!',\n",
        "  62),\n",
        " (u\"RT @sosadtoday: i'm a feminist, but like, a feminist who uses splenda\",\n",
        "  61),\n",
        " (u'RT @WANNAJEAN: When she has \"feminist\" in her bio and you see her slut-shaming women in her tweets. http://t.co/3KGVADG72K',\n",
        "  57),\n",
        " (u\"RT @Chriss_m: This is the woman who refused to debate a prolific feminist scholar. Admit it: you don't do dissent. #gamergate http://t.co/l\\u2026\",\n",
        "  56),\n",
        " (u'RT @LouiseMensch: Saudi blurred out the face of your wife, @BarackObama. Are they still your \"close personal friends\"? #feminism https://t.\\u2026',\n",
        "  54),\n",
        " (u'RT @purrbunny: \\u2661 why I need feminism \\u2661 http://t.co/DOBrUzcfcS',\n",
        "  53),\n",
        " (u'RT @k_mcq: Be a lady, never a feminist.', 53),\n",
        " (u'RT @CHSommers: New Factual Feminist. Just out today. What @SenGillibrand gets wrong about the alleged campus rape culture. https://t.co/QMZ\\u2026',\n",
        "  51),\n",
        " (u'RT @Murr_burrs: Why men need #feminism http://t.co/23EpUIulbp', 50),\n",
        " (u'RT @DiscordianKitty: And this, THIS should tell you EVERYTHING about the harassment Anita Sarkeesian or any other outspoken feminist gets: \\u2026',\n",
        "  49),\n",
        " (u\"RT @spiritualvodka: jokes about women: it's a joke! don't take it so seriously! haha!\\n\\njokes about men: THIS IS WHY FEMINISM IS TOXIC!! WE \\u2026\",\n",
        "  47),\n",
        " (u\"RT @TheBlackVoice: It's amazing how threatened men are by the term feminist while not even being able to provide a working definition of fe\\u2026\",\n",
        "  45),\n",
        " (u\"RT @clementine_ford: I keep hearing that feminism is bad for women, and I think what that's supposed mean is that feminism is bad for men w\\u2026\",\n",
        "  45),\n",
        " (u\"RT @saladinahmed: so this movie was kinda sexist\\nIT'S ONLY A MOVIE DON'T TAKE IT SO SERIOUSLY\\n\\nneat a genre movie starring women\\nFEMINISM W\\u2026\",\n",
        "  45),\n",
        " (u\"RT @zara_anna_: but we don't need feminism, right? http://t.co/5tyoQhZbv3\",\n",
        "  45),\n",
        " (u'RT @TheMeninism: Today, a feminist asked me how I view lesbian relationships... \\n\\nApparently \"in HD\" was not the right answer',\n",
        "  44),\n",
        " (u\"RT @LUClDITY: male's logic: make a shit account called meninist not knowing that it supports feminism http://t.co/WGn81S9Owp\",\n",
        "  44),\n",
        " (u\"RT @CHSommers: At first I thought the feminist protest music was a parody by someone overdoing it a bit.It's real!! &amp; BBC approves. https:/\\u2026\",\n",
        "  43),\n",
        " (u\"RT @CeeJayCraig: Yes, I am woman. \\nNo, I'm not a radical feminist.\\nWhy? Men don't have a single right that I don't have. It's 2015. I'm not\\u2026\",\n",
        "  42),\n",
        " (u\"RT @TheBlackVoice: Feminism isn't a threat to the Black community, but sexism is.\",\n",
        "  41),\n",
        " (u'RT @pale_darkie: \"You\\'re so mean\"\\n\"You\\'re so hateful\"\\n\"You\\'re obsessed with race\"\\n\"All you talk about is feminism\" http://t.co/0HRfXUGTa9',\n",
        "  41),\n",
        " (u'RT @neontaster: Thanks for the lesson in feminism, @Glinner. #GamerGate http://t.co/TKANneEhGF',\n",
        "  41),\n",
        " (u'RT @sallykohn: FTW!  RT @JessicaKRoy: finally a feminist snowstorm http://t.co/NbsIlwPcVq',\n",
        "  41),\n",
        " (u'RT @HathwalaThakur: HAHAHAHAHAHAHAHA\\n\\nFeminist of the year award goes to this lady. #Respect http://t.co/9qAPsHfMKD',\n",
        "  40),\n",
        " (u'RT @TheBlackVoice: Cats who say feminism is a threat to the Black community really mean that feminism is a threat to their fragile masculin\\u2026',\n",
        "  40),\n",
        " (u\"RT @jpegjuju: the problem with white feminism, i know it's a long read http://t.co/UBMLSYdoTw\",\n",
        "  39)]"
       ]
      }
     ],
     "prompt_number": 215
    },
    {
     "cell_type": "code",
     "collapsed": false,
     "input": [
      "tfidf = models.TfidfModel(corpus) \n",
      "corpus_tfidf = tfidf[corpus]\n",
      "train_tfidf = tfidf[corpus2]"
     ],
     "language": "python",
     "metadata": {},
     "outputs": [],
     "prompt_number": 193
    },
    {
     "cell_type": "code",
     "collapsed": false,
     "input": [
      "n_topics = 50\n",
      "lda = models.LdaModel(train_tfidf, id2word=dictionary, num_topics=n_topics, passes=10)\n",
      "lda.update(corpus2)"
     ],
     "language": "python",
     "metadata": {},
     "outputs": [],
     "prompt_number": 211
    },
    {
     "cell_type": "code",
     "collapsed": false,
     "input": [
      "#import logging\n",
      "#logging.basicConfig(format='%(asctime)s : %(levelname)s : %(message)s', level=logging.INFO)\n",
      "#lsi = models.LsiModel(corpus_tfidf, id2word=dictionary, num_topics=2) # initialize an LSI transformation\n"
     ],
     "language": "python",
     "metadata": {},
     "outputs": [],
     "prompt_number": 212
    },
    {
     "cell_type": "code",
     "collapsed": false,
     "input": [
      "for i in range(0, n_topics):\n",
      "    temp = lda.show_topic(i, 15)\n",
      "    terms = []\n",
      "    for term in temp:\n",
      "        terms.append(term[1])\n",
      "    print \"Top 10 terms for topic #\" + str(i) + \": \"+ \", \".join(terms)\n",
      " \n",
      "print \n",
      "print 'Which LDA topic maximally describes a document?\\n'\n",
      "print 'Original document: ' + documents[1]\n",
      "print 'Preprocessed document: ' + str(texts[1])\n",
      "print 'Matrix Market format: ' + str(corpus[1])\n",
      "print 'Topic probability mixture: ' + str(lda[corpus[1]])\n",
      "print 'Maximally probable topic: topic #' + str(max(lda[corpus[1]],key=itemgetter(1))[0])"
     ],
     "language": "python",
     "metadata": {},
     "outputs": [
      {
       "output_type": "stream",
       "stream": "stdout",
       "text": [
        "Top 10 terms for topic #0: women, complaining., 99%, sad., teenage, world., #takecareofyourbody, @dazedcat, muscles, too.#feminism, arabia, @julezthegreat, agreed!, *calmly, convoluted\n",
        "Top 10 terms for topic #1: i'm, fuck, women, female, believe, men, http://t.co/wnc8ditjw9, novamente,, http://t.co/23epuiulbp, @murr_burrs:, http://t.co/xthkhpxfdd, #thefall, http://t.co/qoya214jde, @jessicakroy:, snowstorm\n",
        "Top 10 terms for topic #2: women, promote, @ellekersten, ban, using, @blemur:, parade, crazy, twitter, macho, othe\u2026, difference, rights,, wants, there's\n",
        "Top 10 terms for topic #3: snapchat, stopped, told, you're, inhumane, @iuckystarr:, @vuhsace, rights?, fast., @minkumedia, motherfucker., wanting, congrats, @theexpatterson, person.\n",
        "Top 10 terms for topic #4: need, @notofeminism:, college!!, bachelor, daughters, can\u2019t, avoid, sexually, send, wait, don\u2019t, trying, \u2026, get, like\n",
        "Top 10 terms for topic #5: it's, @thetrudz:, feel, read, know, book, &amp;, white, @dannahm97, bridesmaid, http://t.co/be927zzbmo, #ruinaweddingin5words, inappropriate, tells, 0.3\n",
        "Top 10 terms for topic #6: girls, @6french6fries6:, else\", aka, cares, privileged, \"i'm, something, everyone, @marximillion_:, isnt, interested, enough!!!, victim,, creme"
       ]
      },
      {
       "output_type": "stream",
       "stream": "stdout",
       "text": [
        "\n",
        "Top 10 terms for topic #7: i'm, meninist., http://t.co/2hpdiqklmv, panorama:, mcsnezspicedlatte:, forget,, @007bistromath, tactic, shove, http://t.co/keyrn8kus7, jeopardized, credibility, 'blame, evil!', scrutinize\n",
        "Top 10 terms for topic #8: white, http://t.co/ie3kqiv9pj, @amaraconda:, you're, aren't, comfortable, women, view, chauvinism, side\", http://t.co/hrkayepoms, yo,, turn,, \ud83d\udc81, ok?\n",
        "Top 10 terms for topic #9: wearing, people, @_lxlita:, gains:, http://t.co/sj3no941ms, @kate2373, @panchotaffy, dm, cisgender, ally, thx, african, #babysteps, jeopardy., winner\n",
        "Top 10 terms for topic #10: \u2022, abt:, women's, rights, @dadcult:, \u2022\u2026, genders, defending, 4, culture, fighting, rape, men, equality, down!\n",
        "Top 10 terms for topic #11: world, dumb, best, #tweetlikealocal, american, @meganstarbird_:, sniper, movie, making, \u2260, can't, girls, cover, said, men\n",
        "Top 10 terms for topic #12: think, like, that's, you're, don't, get, women...i, theory., @heaavenhelpus:, http://t.co/n89k31w4c2, because-\", @zaidjilani, experienced, sadly,, days,"
       ]
      },
      {
       "output_type": "stream",
       "stream": "stdout",
       "text": [
        "\n",
        "Top 10 terms for topic #13: \u2661, need, don't, @purrbunny:, http://t.co/dobruzcfcs, every, really, @flashjunkmind:, http://t.co/pnjcz1qjzv, @womagainstfem:, @hassamm_:, masculinity\", \"toxic, relations., accounts.\n",
        "Top 10 terms for topic #14: u, r, ur, bitches, voting., pants., wearing, way, i'm, girl, think, transgender, entirety, kidding?, forever!\n",
        "Top 10 terms for topic #15: it's, much, like, people, jokes, \u2026, women, twitter, word, take, don't, irritates, use, seriously!, joke!\n",
        "Top 10 terms for topic #16: like, go, you're, u, wanting, superior, #tweetlikealocal, men, women, day, modern, @arcticanwxar:, subject, @mjoy_oldfield, hack.\n",
        "Top 10 terms for topic #17: like, women, hate, make, humans, totally, freeing, real, women., new, =, believe, want, girl, @lrystirfry:\n",
        "Top 10 terms for topic #18: @vaiensi:, encorauges, witchcraft,, husbands,, les\u2026, children,, capitalism, practice, destroy, leave, kill, become, woman, self-righteous, shut\n",
        "Top 10 terms for topic #19: tweet, something, twitter, sports, @anitasarkeesian, amirite?, piggybacking, funny., block., @tonycollinet, shite!, attention*, *says, \ud83d\ude29\ud83d\ude29\ud83d\ude29, boutta"
       ]
      },
      {
       "output_type": "stream",
       "stream": "stdout",
       "text": [
        "\n",
        "Top 10 terms for topic #20: &amp;, u, =, don\u2019t, new, support, feminist/misandriuc, https://t.co/oxtmgk6hr7, non-feminists, poster, posters, campaign, latest, response, make\n",
        "Top 10 terms for topic #21: reasons, -the, -animal, -capitalism, -destruction, -feminism, @ouijameme:, environment, an\u2026, vegan:, vegan, female, rights, head..., dum\n",
        "Top 10 terms for topic #22: women, misconceptions, make, even, sexes, person, believes, economic, social, \"i, men\", misunderstood, don't, equality, absurd\n",
        "Top 10 terms for topic #23: women, you're, !!!!!!!!!, http://t.co/zohiwumw64, http://t.co/yjf0qzjtwp, compliment, classes?, teatime, http://t.co/cpy82romkc, forum:, gym, http://t.co/rwjujjegqk, 'misandream':, cuoco, kaley\n",
        "Top 10 terms for topic #24: -boys, badge, long., campaigns., http://t.co/o4sw5ebdra\u201d, cliche, @theqbannon, @krisinthetardis, living, #thisgirlcan, expectations, cents, exaggerated, http://t.co/mey4jsw1eu, bash\n",
        "Top 10 terms for topic #25: wouldn't, calling, rape, want, would, men, seen, ace, acts, i've, @ali_montero1:, pretty, base, me\ud83d\ude02\ud83d\ude02\ud83d\ude02, menstrual\n",
        "Top 10 terms for topic #26: women, stupid, #tweetlikeamisogynisticasshole, kitchen, happens, let, lol, dismissing, \"real, @michaeljhurd1, http://t.co/ahsrak7qta, importance, self-described, upset., chances"
       ]
      },
      {
       "output_type": "stream",
       "stream": "stdout",
       "text": [
        "\n",
        "Top 10 terms for topic #27: stop, @sci_fine:, uplifting, gandhi, context, quotes, misogynist, using, community, racist, black, &amp;, can't, lmao, #tweetlikealocal\n",
        "Top 10 terms for topic #28: &amp;, gender, base, one, sense., both., prejudice, addressing, psa:, roles, one., men,, call, like, people\n",
        "Top 10 terms for topic #29: movement, year\", \"hollywood's, \"feminism:, \u270c, http://t.co/oe\u2026, backlash, film, resistance., justifies, attached, http://t.co/tacyoyzcai, it\u2019s, stigma, sad.\n",
        "Top 10 terms for topic #30: women, doesnt, beings\", bc, specific....., \"dumb, rebel, booboo., notion, education!, teenager, @steveandbuckie:, -_-, parents, wr\u2026\n",
        "Top 10 terms for topic #31: equality, support, believe, women, gender, dont, @punkthetic:, tumblr,, aspe\u2026, \"trendy\", morally, never, ,, entice,, berate,\n",
        "Top 10 terms for topic #32: worried, rights, twitter, want, dominant., false, grey, 4,000, longer, matter., why\u2026, painting, treatment, 50, facts\n",
        "Top 10 terms for topic #33: \ud83d\ude15\ud83d\ude15, self-centered, losers, smh, whining, http://t.co/fm8yizfoe1, economists, refuted, @laurenenders, cant, busy, empowerment., hundreds, times., guy"
       ]
      },
      {
       "output_type": "stream",
       "stream": "stdout",
       "text": [
        "\n",
        "Top 10 terms for topic #34: people, sick, masculinity, thing, women, it's, men, like, think, annoying, sexist, hahah, @katierose015:, http://t.co/hpblkazcqi, asset\n",
        "Top 10 terms for topic #35: privileged, girls, equali\u2026, @internetgiri:, proves, attention, poisonous, #womenagainstfeminis\u2026, is!, oppressor., inferior, equality:, http://t.co/xoqe1hsoq4, @justlaurenb:, @sugarscape\n",
        "Top 10 terms for topic #36: right, guys, give, bad, @lxlayyy:, doesnt, talk, you're, @princesskanye:, tits, \ud83d\ude12, ugly, slut, excuse, show\n",
        "Top 10 terms for topic #37: men, don't, many, doesn't, destroy., injure, kill,, systems, #yesa\u2026, #novote2antimen, @timesnow, @cnn, @vikramarora20:, apologize, @pti_news\n",
        "Top 10 terms for topic #38: still, #yesallwomen, people, @prowomanchoice:, women, incomprehensibly,, #fe\u2026, and,, acknowledge, #ineedfeminismbecause, men., 2015, say, equal, that's\n",
        "Top 10 terms for topic #39: @teenidlenourry:, stress, importance, demonize, correct, http://t.co/ehi0pmpynr, femfreq, honest, quite, ya'll..you've, admits, pick, die, proven, definition\n",
        "Top 10 terms for topic #40: #moongeesefacts, geese, conspiracy!, weapon, moon, ultimate, http://t.co/84whya2em1, coincidentally,, tend, solid, feminism,\", @sj_wiki., fascination, @majorphilebrity:, @illandelrey:"
       ]
      },
      {
       "output_type": "stream",
       "stream": "stdout",
       "text": [
        "\n",
        "Top 10 terms for topic #41: @ex_nihilo_0:, propaganda,, @ajwetterau, #wagsscholars;), @theavclub:, http://t.co/1dvi13sp38, http://t.co/ppm8xrh3hj, @pajama_sam_:, etc.., sexuality,, int\u2026, realized, friendship, supremacy, #ant\u2026\n",
        "Top 10 terms for topic #42: women, never, appropriation, responds,, feminist\u2122, cultures, @notallbhas:, claiming, obligation, racist, http:\u2026, respect, called, black, white\n",
        "Top 10 terms for topic #43: say, want, http://t.co/m1izvh4a4k, chapter, specific, parts, perspectives, piss, @niceantifem, @vintagesaturday:, starting, thrives, fundamentally, @robinashe:, \"slut\n",
        "Top 10 terms for topic #44: naked\", \"getting, marches, @mychemicalstory, thrones, http://t.co/frj518unul, career., @soulthatmatters:, refrain, adventureathlete:, olisaurusrex:..., thattallsummonerguy:, contestant, otherwise,, uneducated.\n",
        "Top 10 terms for topic #45: men, yoooo, @ohgryffindor:, feminism??, coochie, weapon,, @emwatson, real, @shieldmaiden143:, raped,, ma\u2026, \"girly, things\", effective, incredibly\n",
        "Top 10 terms for topic #46: need, don't, \"i, women, actually, believe, shunnn., shun, believer., non, @alexisderiksmit:, feminism.\", problems, much, cause\n",
        "Top 10 terms for topic #47: internet, i'm, says,, base, one, that's, everyone/thing, @slushstuff, skin..how, man's., normal,, sooooo, 'best', work?, contest"
       ]
      },
      {
       "output_type": "stream",
       "stream": "stdout",
       "text": [
        "\n",
        "Top 10 terms for topic #48: women., dont, equality, isn't, men, it's, men!, @trainedemotion:, #lost, http://t.co/xatvlgra6g, #manhood, project:, @rossalynwarren:, effeminate, exclusionary\n",
        "Top 10 terms for topic #49: people, account, meninist, @leilanigbbns:, http://t.co/znxptdqvdf, funny!, @apestiesview, retard, guessing, 99%, @_ataveira:, \u201c@cremelesa:, sexes.\u201d, too?, bash\n",
        "\n",
        "Which LDA topic maximally describes a document?\n",
        "\n",
        "Original document: RT @AlexisDerikSmit: \"I don't believe in feminism.\"\n",
        "\n",
        "SHUN THE NON BELIEVER. SHUNNN.\n",
        "Preprocessed document: [u'@alexisderiksmit:', u'\"i', u\"don't\", u'believe', u'feminism.\"', u'shun', u'non', u'believer.', u'shunnn.']\n",
        "Matrix Market format: [(13, 1), (14, 1), (15, 1), (16, 1), (17, 1), (18, 1), (19, 1), (20, 1), (21, 1)]\n",
        "Topic probability mixture: [(46, 0.90199999999963032)]\n",
        "Maximally probable topic: topic #46\n"
       ]
      }
     ],
     "prompt_number": 213
    },
    {
     "cell_type": "code",
     "collapsed": false,
     "input": [],
     "language": "python",
     "metadata": {},
     "outputs": [],
     "prompt_number": 94
    },
    {
     "cell_type": "code",
     "collapsed": false,
     "input": [],
     "language": "python",
     "metadata": {},
     "outputs": [],
     "prompt_number": 94
    },
    {
     "cell_type": "code",
     "collapsed": false,
     "input": [],
     "language": "python",
     "metadata": {},
     "outputs": []
    },
    {
     "cell_type": "code",
     "collapsed": false,
     "input": [],
     "language": "python",
     "metadata": {},
     "outputs": [],
     "prompt_number": 107
    },
    {
     "cell_type": "code",
     "collapsed": false,
     "input": [],
     "language": "python",
     "metadata": {},
     "outputs": [],
     "prompt_number": 94
    },
    {
     "cell_type": "code",
     "collapsed": false,
     "input": [
      "\n"
     ],
     "language": "python",
     "metadata": {},
     "outputs": [],
     "prompt_number": 94
    },
    {
     "cell_type": "code",
     "collapsed": false,
     "input": [],
     "language": "python",
     "metadata": {},
     "outputs": []
    }
   ],
   "metadata": {}
  }
 ]
}