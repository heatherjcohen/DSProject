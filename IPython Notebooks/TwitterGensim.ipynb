{
 "metadata": {
  "name": "",
  "signature": "sha256:7111301babd7aef6d09e0605ae6cc9d3d07de8532c5b64c6525d2e66c8b52941"
 },
 "nbformat": 3,
 "nbformat_minor": 0,
 "worksheets": [
  {
   "cells": [
    {
     "cell_type": "code",
     "collapsed": false,
     "input": [
      "import pymongo\n",
      "import tweepy\n",
      "import json\n",
      "from pymongo import MongoClient\n",
      "from bson.objectid import ObjectId\n",
      "from sklearn.feature_extraction.text import CountVectorizer\n",
      "from sklearn import metrics\n",
      "from sklearn import cross_validation\n",
      "\n",
      "from sklearn.cluster import MiniBatchKMeans\n",
      "\n",
      "from sklearn.preprocessing import Normalizer\n",
      "\n",
      "client = MongoClient('localhost',27017)\n",
      "\n",
      "db = client.dump"
     ],
     "language": "python",
     "metadata": {},
     "outputs": [],
     "prompt_number": 14
    },
    {
     "cell_type": "code",
     "collapsed": false,
     "input": [
      "db.collection_names()"
     ],
     "language": "python",
     "metadata": {},
     "outputs": [
      {
       "metadata": {},
       "output_type": "pyout",
       "prompt_number": 15,
       "text": [
        "[u'langs', u'system.indexes', u'tweets']"
       ]
      }
     ],
     "prompt_number": 15
    },
    {
     "cell_type": "code",
     "collapsed": false,
     "input": [
      "neg_tweets = [(doc['text']) for doc in db.tweets.find({'fem':1})] \n",
      "pos_tweets = [(doc['text']) for doc in db.tweets.find({'fem':0})] \n",
      "neg_sent =  [(doc['fem']) for doc in db.tweets.find({'fem':1})] \n",
      "pos_sent = [(doc['fem']) for doc in db.tweets.find({'fem':0})] \n",
      "\n",
      "#Tweet tagged with sentiment data\n",
      "sent = neg_sent + pos_sent\n",
      "\n",
      "#All Tweets\n",
      "all_tweets= [(doc['text']) for doc in db.tweets.find({\"text\": {\"$exists\":True}})] \n",
      "\n",
      "#Train Set\n",
      "train = neg_tweets + pos_tweets\n",
      "\n",
      "#CountVectorizer\n",
      "from sklearn.feature_extraction.text import CountVectorizer\n",
      "vect = CountVectorizer(analyzer='char_wb', ngram_range=(2, 5), encoding=u'utf-8', stop_words='english', max_features=10000)\n",
      "ngvText = vect.fit_transform(all_tweets)\n"
     ],
     "language": "python",
     "metadata": {},
     "outputs": [],
     "prompt_number": 16
    },
    {
     "cell_type": "code",
     "collapsed": false,
     "input": [
      "from collections import Counter\n",
      "Counter(all_tweets).most_common(50)\n",
      "#Most Common 50 Tweets aka most Retweeted *In future models, update to capture RT data and weigh by*"
     ],
     "language": "python",
     "metadata": {},
     "outputs": [
      {
       "metadata": {},
       "output_type": "pyout",
       "prompt_number": 17,
       "text": [
        "[(u'RT @MeninistTweet: Today, a feminist asked me how I view lesbian relationships... \\n\\nApparently \"in HD\" was not the right answer',\n",
        "  1745),\n",
        " (u'RT @vanbadham: Why feminism? Because you can sell 30 MILLION copies of a single book and when you die, The Australian prints this: http://t\\u2026',\n",
        "  982),\n",
        " (u'RT @JessicaKRoy: finally a feminist snowstorm http://t.co/QOYa214jdE',\n",
        "  671),\n",
        " (u'RT @pompateorisi: Sabahlar\\u0131 g\\xfcnayd\\u0131n mesaj\\u0131 alamayan k\\u0131zda \\xf6\\u011flenine feminist oluyor...',\n",
        "  456),\n",
        " (u\"RT @vanbadham: Why feminism? Because she was ALSO a FREAKIN' NEUROPHYSICIST at YALE &amp; this is how The Australian begins her obituary http:/\\u2026\",\n",
        "  419),\n",
        " (u\"RT @tyleroakley: feminism is good. @femsplain is good.\\n\\nget into it, y'all: https://t.co/vSBFIQW9Dv\",\n",
        "  233),\n",
        " (u\"RT @YesMeninism: I need meninism because it's so much easier to pretend women cause all my problems than to admit what I actually need is f\\u2026\",\n",
        "  204),\n",
        " (u\"RT @redlianak: Criticize Feminist Frequency, get labelled an MRA/transphobe. That's not feminism thanks. That's just bullying. http://t.co/\\u2026\",\n",
        "  203),\n",
        " (u'RT @PressedOrgandy: MT- @vanbadham: Why feminism? Because she was a NEUROPHYSICIST at YALE and this is how her obituary begins: http://t.co\\u2026',\n",
        "  180),\n",
        " (u'RT @amaraconda: white feminism http://t.co/Ie3kQIV9pj', 159),\n",
        " (u\"RT @awmarissa: Girls who shit on feminism need a reality check you're literally pushing things back. How can you be against equal rights fo\\u2026\",\n",
        "  156),\n",
        " (u'RT @NotAllBhas: White Feminist\\u2122 called out on racist appropriation responds, claiming she has no obligation to respect other cultures http:\\u2026',\n",
        "  154),\n",
        " (u'RT @MajorPhilebrity: F.H: Fifth Harmony or Feminist Heroes?', 149),\n",
        " (u'RT @snoozyloser: if ur a girl that is against feminism why r u voting. why r u wearing pants. how can u read',\n",
        "  136),\n",
        " (u\"RT @hayleyestxlle: Feminism has never made me hate men but men's reaction to feminism definitely has.\",\n",
        "  129),\n",
        " (u'RT @sempiternal_: \"We dont need feminism\" sure we don\\'t http://t.co/iWw9fFI662',\n",
        "  127),\n",
        " (u'RT @MeganStarbird_: #TweetLikeALocal feminism is dumb and american sniper is the best movie in the world',\n",
        "  124),\n",
        " (u\"RT @5HonTour: Top 10 Fiercely Feminist Lyrics On Fifth Harmony's 'Reflection' via @fusetv http://t.co/W9FHOe5yux\",\n",
        "  119),\n",
        " (u'RT @OGTREEZ: Everytime you say feminist you gotta say men too.', 95),\n",
        " (u'RT @RudeComedian: Today, a feminist asked me how I view lesbian relationships... \\n\\nApparently \"in HD\" was not the right answer',\n",
        "  87),\n",
        " (u\"RT @neilyourself: Here's why I don't take feminism seriously: the juggling, the pies, the huge shoes and red noses. This is supposed to be \\u2026\",\n",
        "  83),\n",
        " (u'RT @AnneHathabae: Congratulations to the lovely, intelligent, feminist, and talented indie queen, Kristen Stewart on her C\\xe9sar nominations.\\u2026',\n",
        "  70),\n",
        " (u\"RT @neilyourself: Here's what Feminism gets wrong: There's no legitimate, scientific evidence that the Earth is hollow. Period. Sorry, femi\\u2026\",\n",
        "  64),\n",
        " (u'RT @MeninistTweet: Finally a feminist snow storm! http://t.co/AeyUQTBscB',\n",
        "  63),\n",
        " (u'RT @LaGrosera: FEMINISM 2k15 SOUNDS LIKE #REFLECTION. Welcome to the movement!',\n",
        "  62),\n",
        " (u\"RT @sosadtoday: i'm a feminist, but like, a feminist who uses splenda\",\n",
        "  61),\n",
        " (u'RT @WANNAJEAN: When she has \"feminist\" in her bio and you see her slut-shaming women in her tweets. http://t.co/3KGVADG72K',\n",
        "  57),\n",
        " (u\"RT @Chriss_m: This is the woman who refused to debate a prolific feminist scholar. Admit it: you don't do dissent. #gamergate http://t.co/l\\u2026\",\n",
        "  56),\n",
        " (u'RT @LouiseMensch: Saudi blurred out the face of your wife, @BarackObama. Are they still your \"close personal friends\"? #feminism https://t.\\u2026',\n",
        "  54),\n",
        " (u'RT @purrbunny: \\u2661 why I need feminism \\u2661 http://t.co/DOBrUzcfcS',\n",
        "  53),\n",
        " (u'RT @k_mcq: Be a lady, never a feminist.', 53),\n",
        " (u'RT @CHSommers: New Factual Feminist. Just out today. What @SenGillibrand gets wrong about the alleged campus rape culture. https://t.co/QMZ\\u2026',\n",
        "  51),\n",
        " (u'RT @Murr_burrs: Why men need #feminism http://t.co/23EpUIulbp', 50),\n",
        " (u'RT @DiscordianKitty: And this, THIS should tell you EVERYTHING about the harassment Anita Sarkeesian or any other outspoken feminist gets: \\u2026',\n",
        "  49),\n",
        " (u\"RT @spiritualvodka: jokes about women: it's a joke! don't take it so seriously! haha!\\n\\njokes about men: THIS IS WHY FEMINISM IS TOXIC!! WE \\u2026\",\n",
        "  47),\n",
        " (u\"RT @TheBlackVoice: It's amazing how threatened men are by the term feminist while not even being able to provide a working definition of fe\\u2026\",\n",
        "  45),\n",
        " (u\"RT @clementine_ford: I keep hearing that feminism is bad for women, and I think what that's supposed mean is that feminism is bad for men w\\u2026\",\n",
        "  45),\n",
        " (u\"RT @saladinahmed: so this movie was kinda sexist\\nIT'S ONLY A MOVIE DON'T TAKE IT SO SERIOUSLY\\n\\nneat a genre movie starring women\\nFEMINISM W\\u2026\",\n",
        "  45),\n",
        " (u\"RT @zara_anna_: but we don't need feminism, right? http://t.co/5tyoQhZbv3\",\n",
        "  45),\n",
        " (u'RT @TheMeninism: Today, a feminist asked me how I view lesbian relationships... \\n\\nApparently \"in HD\" was not the right answer',\n",
        "  44),\n",
        " (u\"RT @LUClDITY: male's logic: make a shit account called meninist not knowing that it supports feminism http://t.co/WGn81S9Owp\",\n",
        "  44),\n",
        " (u\"RT @CHSommers: At first I thought the feminist protest music was a parody by someone overdoing it a bit.It's real!! &amp; BBC approves. https:/\\u2026\",\n",
        "  43),\n",
        " (u\"RT @CeeJayCraig: Yes, I am woman. \\nNo, I'm not a radical feminist.\\nWhy? Men don't have a single right that I don't have. It's 2015. I'm not\\u2026\",\n",
        "  42),\n",
        " (u\"RT @TheBlackVoice: Feminism isn't a threat to the Black community, but sexism is.\",\n",
        "  41),\n",
        " (u'RT @pale_darkie: \"You\\'re so mean\"\\n\"You\\'re so hateful\"\\n\"You\\'re obsessed with race\"\\n\"All you talk about is feminism\" http://t.co/0HRfXUGTa9',\n",
        "  41),\n",
        " (u'RT @neontaster: Thanks for the lesson in feminism, @Glinner. #GamerGate http://t.co/TKANneEhGF',\n",
        "  41),\n",
        " (u'RT @sallykohn: FTW!  RT @JessicaKRoy: finally a feminist snowstorm http://t.co/NbsIlwPcVq',\n",
        "  41),\n",
        " (u'RT @HathwalaThakur: HAHAHAHAHAHAHAHA\\n\\nFeminist of the year award goes to this lady. #Respect http://t.co/9qAPsHfMKD',\n",
        "  40),\n",
        " (u'RT @TheBlackVoice: Cats who say feminism is a threat to the Black community really mean that feminism is a threat to their fragile masculin\\u2026',\n",
        "  40),\n",
        " (u\"RT @jpegjuju: the problem with white feminism, i know it's a long read http://t.co/UBMLSYdoTw\",\n",
        "  39)]"
       ]
      }
     ],
     "prompt_number": 17
    },
    {
     "cell_type": "code",
     "collapsed": false,
     "input": [
      "from collections import Counter\n",
      "Counter(neg_tweets).most_common(10)"
     ],
     "language": "python",
     "metadata": {},
     "outputs": [
      {
       "metadata": {},
       "output_type": "pyout",
       "prompt_number": 18,
       "text": [
        "[(u'RT @MeganStarbird_: #TweetLikeALocal feminism is dumb and american sniper is the best movie in the world',\n",
        "  4),\n",
        " (u'RT @lxlayyy: being a feminist doesnt give you the right to talk bad about guys',\n",
        "  3),\n",
        " (u\"RT @YesMeninism: I need meninism because it's so much easier to pretend women cause all my problems than to admit what I actually need is f\\u2026\",\n",
        "  2),\n",
        " (u\"RT @AliceTeller: Tradition taught women to entice, enchant,and enthrall men.\\nFeminism teaches us to berate, nag, and demand. \\nHow's that wo\\u2026\",\n",
        "  2),\n",
        " (u'RT @NoToFeminism: I don\\u2019t need feminism I can\\u2019t wait to send my daughters to college!! to get a Bachelor of Trying to Avoid Being Sexually \\u2026',\n",
        "  2),\n",
        " (u\"RT @princesskanye: #tweetlikealocal feminism is nothing but an excuse to show you're tits because your an ugly slut \\U0001f612\",\n",
        "  2),\n",
        " (u'RT @VikramArora20: @PTI_News  @TimesNow @CNN \\n#DelhiElections Stop #Feminism n #fakecases on men #498a #StopMarriageBill #NoVote2AntiMen ht\\u2026',\n",
        "  2),\n",
        " (u'RT @vaIensi: FEMINISM encorauges woman to LEAVE their husbands, KILL their children, PRACTICE witchcraft, DESTROY capitalism and BECOME les\\u2026',\n",
        "  2),\n",
        " (u'RT @6french6fries6: Girls against feminism aka \"I\\'m privileged so who cares about everyone else\"',\n",
        "  2),\n",
        " (u\"RT @spiritualvodka: jokes about women: it's a joke! don't take it so seriously! haha!\\n\\njokes about men: THIS IS WHY FEMINISM IS TOXIC!! WE \\u2026\",\n",
        "  2)]"
       ]
      }
     ],
     "prompt_number": 18
    },
    {
     "cell_type": "code",
     "collapsed": false,
     "input": [
      "from itertools import chain\n",
      "from gensim import corpora, models, similarities\n",
      "import nltk\n",
      "from nltk.corpus import stopwords\n",
      "from operator import itemgetter\n",
      "import re\n",
      "\n",
      "\n",
      "\n",
      "documents = all_tweets\n",
      "stoplist = set(stopwords.words(\"english\"))\n",
      "#add custom words to be removed from analysis \n",
      "stoplist.update(('feminist', ' &amp;', 'rt', 'RT', '&','feminism', 'feminism\"', 'feminist.\"', 'feminist.\u201d','feminist?' ,'feminists.', 'feminist,', 'feminist\"','feminism,','feminism?', 'feminists', 'feminism.','#feminism','feminist:', '\"feminism', 'feminist.'))\n",
      "\n",
      "texts = [[word for word in document.lower().split() if word not in stoplist] # len adjust\n",
      " for document in documents]\n",
      "dictionary = corpora.Dictionary(texts)\n",
      "corpus = [dictionary.doc2bow(text) for text in texts]\n",
      "\n",
      "\n",
      "traintext = [[word for word in document.lower().split() if word not in stoplist] # len adjust\n",
      " for document in train]\n",
      "dictionary2 = corpora.Dictionary(texts)\n",
      "corpus2 = [dictionary.doc2bow(text) for text in traintext]\n"
     ],
     "language": "python",
     "metadata": {},
     "outputs": [],
     "prompt_number": 19
    },
    {
     "cell_type": "code",
     "collapsed": false,
     "input": [
      "tfidf = models.TfidfModel(corpus) \n",
      "corpus_tfidf = tfidf[corpus]\n",
      "train_tfidf = tfidf[corpus2]"
     ],
     "language": "python",
     "metadata": {},
     "outputs": [],
     "prompt_number": 20
    },
    {
     "cell_type": "code",
     "collapsed": false,
     "input": [
      "n_topics = 50\n",
      "lda = models.LdaModel(train_tfidf, id2word=dictionary, num_topics=n_topics, passes=10)\n",
      "lda.update(corpus2)"
     ],
     "language": "python",
     "metadata": {},
     "outputs": [
      {
       "output_type": "stream",
       "stream": "stderr",
       "text": [
        "//anaconda/lib/python2.7/site-packages/gensim-0.10.3-py2.7-macosx-10.5-x86_64.egg/gensim/models/ldamodel.py:476: RuntimeWarning: overflow encountered in exp2\n",
        "  (perwordbound, numpy.exp2(-perwordbound), len(chunk), corpus_words))\n"
       ]
      }
     ],
     "prompt_number": 21
    },
    {
     "cell_type": "code",
     "collapsed": false,
     "input": [
      "#import logging\n",
      "#logging.basicConfig(format='%(asctime)s : %(levelname)s : %(message)s', level=logging.INFO)\n",
      "#lsi = models.LsiModel(corpus_tfidf, id2word=dictionary, num_topics=2) # initialize an LSI transformation\n"
     ],
     "language": "python",
     "metadata": {},
     "outputs": [],
     "prompt_number": 22
    },
    {
     "cell_type": "code",
     "collapsed": false,
     "input": [
      "for i in range(0, n_topics):\n",
      "    temp = lda.show_topic(i, 15)\n",
      "    terms = []\n",
      "    for term in temp:\n",
      "        terms.append(term[1])\n",
      "    print \"Top 10 terms for topic #\" + str(i) + \": \"+ \", \".join(terms)\n",
      " \n",
      "print \n",
      "print 'Which LDA topic maximally describes a document?\\n'\n",
      "print 'Original document: ' + documents[1]\n",
      "print 'Preprocessed document: ' + str(texts[1])\n",
      "print 'Matrix Market format: ' + str(corpus[1])\n",
      "print 'Topic probability mixture: ' + str(lda[corpus[1]])\n",
      "print 'Maximally probable topic: topic #' + str(max(lda[corpus[1]],key=itemgetter(1))[0])"
     ],
     "language": "python",
     "metadata": {},
     "outputs": [
      {
       "output_type": "stream",
       "stream": "stdout",
       "text": [
        "Top 10 terms for topic #0: kill,, injure, destroy., systems, #yesa\u2026, apologize, @brbabblingbooks:, do., belief, many, don't, need, @dannahm97, http://t.co/wnc8ditjw9, !!!!!!!!!\n",
        "Top 10 terms for topic #1: women, &amp;, fact, movement, black, =, never, both., prejudice, psa:, addressing, roles, one., men,, call\n",
        "Top 10 terms for topic #2: don't, jokes, \u2026, take, want, joke!, toxic!!, seriously!, haha!, women:, @spiritualvodka:, men:, masculinity, it's, men\n",
        "Top 10 terms for topic #3: equal, it's, women, you're, incomprehensibly,, and,, #fe\u2026, acknowledge, #ineedfeminismbecause, @prowomanchoice:, men., #yesallwomen, 2015, still, literally\n",
        "Top 10 terms for topic #4: don't, &amp;, \"i, non, using, shunnn., shun, believer., @alexisderiksmit:, feminism.\", believe, black, @sci_fine:, uplifting, gandhi"
       ]
      },
      {
       "output_type": "stream",
       "stream": "stdout",
       "text": [
        "\n",
        "Top 10 terms for topic #5: unless, twitter, 4,000, matter., septum, piercing,, 'u', followers, typing, dyed, opinion, welcome, hair,, takes, anything\n",
        "Top 10 terms for topic #6: girls, women, wanting, superior, #tweetlikealocal, men, can't, #girlsmatter, acculturated, http://t.co/uzpwmzkx3m, silent?, sarkeesan, http://t.co/lixkwdkl3j,, reclaim, allows\n",
        "Top 10 terms for topic #7: it's, bitches, know, women, need, book, @thetrudz:, http://t.co/mzsmyn9tk4, rooftops, http://t.co/4swmp5styu, bonded, shout, @amysgotmilk, insist, \ud83d\ude2d\n",
        "Top 10 terms for topic #8: rights, wrong, yoooo, gains:, http://t.co/sj3no941ms, insane?\", nitpicky,, @bradley_kirby, http://t.co/hrkayepoms, yo,, @thespan1ard:, career., false, real, point\ud83d\udd2a\n",
        "Top 10 terms for topic #9: science, @mychemicalstory, thrones, \u201c@youngblkrepub:, http://t.co/je7c6yebxh\u201d, gay\", @browhatt:, @del_graves:, characters, including, warriors., facebook,, @feminismislies, @exposefeminism:, extremists\n",
        "Top 10 terms for topic #10: women, that's, it's, like, #yesallwomen, get, i'm, honestly, shut, http://t.co/gedz9x3oye, @panchotaffy, @kate2373, cisgender, brave, http://t.co/kmthkpkabn"
       ]
      },
      {
       "output_type": "stream",
       "stream": "stdout",
       "text": [
        "\n",
        "Top 10 terms for topic #11: it's, @justlaurenb:, snapchat, something, sick, they're, like, girls, http://t.co/gfzqo7ajhm, @donte__502:, cinderella, rebel, booboo., 'best', contest\n",
        "Top 10 terms for topic #12: cover, &amp;, everyone/thing, @slushstuff, teenager, education!, refrain, @soulthatmatters:, otherwise,, consisted, \u270a\ud83d\udc81, uneducated., aware, world., childhood\n",
        "Top 10 terms for topic #13: equality, it's, twitter, tweet, women., people, don't, men, book, http://t.co/1rdzrw7zbp, @leilanigbbns:, dragging, sports, 99%, @_ataveira:\n",
        "Top 10 terms for topic #14: reasons, you're, an\u2026, -destruction, -animal, -capitalism, -feminism, -the, @ouijameme:, environment, happy, vegan:, vegan, rape, would\n",
        "Top 10 terms for topic #15: women, freeing, humans, it., hate, women., =, people, real, lmao, \"feminism:, #tweetlikealocal, declamations, @niceantifem, thrives\n",
        "Top 10 terms for topic #16: u, r, let, girl, ur, wearing, voting., pants., don't, @boodooperson, @brianmtaylor, #closefcps, candace, meninism., tf\n",
        "Top 10 terms for topic #17: \u2022, abt:, women's, rights, misconceptions, stopped, @dadcult:, \u2022\u2026, genders, defending, 4, culture, fighting, people, rape"
       ]
      },
      {
       "output_type": "stream",
       "stream": "stdout",
       "text": [
        "\n",
        "Top 10 terms for topic #18: right, give, guys, bad, doesnt, @lxlayyy:, talk, fight, bc, ur, men, u, end, wrong, way\n",
        "Top 10 terms for topic #19: like, it's, people, much, i'm, thing, u, word, &amp;, fucking, irritates, use, bad, it., mean\n",
        "Top 10 terms for topic #20: women, teaches, how's, sad., ,, nag,, entice,, enthrall, enchant,and, tradition, berate,, told, demand., @aliceteller:, must\n",
        "Top 10 terms for topic #21: responds,, appropriation, feminist\u2122, cultures, @notallbhas:, -boys, claiming, obligation, sense., racist, http:\u2026, respect, called, white, i'm\n",
        "Top 10 terms for topic #22: i'm, one, base, says,, people, woman, concepts, concept, sexism, novamente,, @vintagesaturday:, valuea., fundamentally, but....., bless\n",
        "Top 10 terms for topic #23: need, women, actually, problems, cause, twitter, it's, much, easier, pretend, f\u2026, @yesmeninism:, admit, meninism, already\n",
        "Top 10 terms for topic #24: @ohgryffindor:, http://t.co/zohiwumw64, feminism??, @emwatson, @emilyann128, ways, victim,, enough!!!, tht, list, inspiration., win, @gerard\u2026, @kennedylryan:, ideals."
       ]
      },
      {
       "output_type": "stream",
       "stream": "stdout",
       "text": [
        "\n",
        "Top 10 terms for topic #25: women, twitter, down!, empower, again., color., peeve, @nsvrc:, @hiitsnotme:, http://t.co/ly7rfacpmf, with..., pet, creepy, argued, bring\n",
        "Top 10 terms for topic #26: worried, women, \"hollywood's, year\", 0.3, @disturbedfan132, fem-fad,, points., why\u2026, film, low, uppity', her., chances, survivor\n",
        "Top 10 terms for topic #27: wearing, i'm, @princesskanye:, tits, \ud83d\ude12, ugly, slut, excuse, show, nothing, #tweetlikealocal, you're, because...., http://t.co/r2pxwr4bup, retard\n",
        "Top 10 terms for topic #28: women, think, would, like, believe, ur, cant, annoying, self-righteous, @flashjunkmind:, p0w3r, pu$$y, slogan, dominant., entirety\n",
        "Top 10 terms for topic #29: don\u2019t, support, beings\", overstock, notion, @bandsontumblr:, http://t.co/f613mr1ie8, briefly, 'academics'?, principia, turn,, interesting., postmodernist, @_lyude, @kheapathic\n",
        "Top 10 terms for topic #30: http://t.co/m1izvh4a4k, @amandamarcotte, #justwondering, picnic?, x'd, synonyms, @matthewbeasleyy:, sandwiches, deprived, cissexist, simplistic, ('females'), extending, @meg_pirie, beast?\n",
        "Top 10 terms for topic #31: world, dumb, best, #tweetlikealocal, american, @meganstarbird_:, sniper, movie, i'm, like, time, geese, #moongeesefacts, 'menimist', *sends"
       ]
      },
      {
       "output_type": "stream",
       "stream": "stdout",
       "text": [
        "\n",
        "Top 10 terms for topic #32: twitter, make, worst, @nohoesnick:, absurd, large, masculinity\", \"toxic, http://t.co/xwas5nw2jy, @ingloreus:, brand, equali\u2026, @internetgiri:, dollar, proves\n",
        "Top 10 terms for topic #33: women, stupid, lol, complain, #tweetlikeamisogynisticasshole, kitchen, happens, let, @ellekersten, @coospiah:, paradoxical, losers, objectifying, participate, @bdk0865:\n",
        "Top 10 terms for topic #34: know, women, @teenidlenourry:, @mjoy_oldfield, hack., classes?, #saveaweddingin5words\", \"@cmclymer:, gym, brainwashed, social-democrat,, forever!, norway, record., fixed\n",
        "Top 10 terms for topic #35: people, http://t.co/pnjcz1qjzv, \"youre, socialist\", @womagainstfem:, http://t.co/znxptdqvdf, funny!, christian, read\u201d, \u201c@snoozyloser:, because..., etc.., sexuality,, @pajama_sam_:, gay\n",
        "Top 10 terms for topic #36: need, peace-love-hippieness:, k, o, photoset:, \"we, dont, bridesmaid, hahah, #ruinaweddingin5words, http://t.co/j9pxxjm5df, http://t.co/rwjujjegqk, 'misandream':, @dontbegit_:, utopia\n",
        "Top 10 terms for topic #37: don't, @lrystirfry:, @ayyheaven:, http://t.co/bgf3jhlhvl, http://t.co/uxid9rieyo, months, because\", @cmclymer:, they\u2019re..., sjwstupidity:, #ruinaweddingin5words, \"my, scared, ago, partner\n",
        "Top 10 terms for topic #38: keep, female, side\", chauvinism, unreasonable, ok?, oh,, @yungclaudia:, except, ri\u2026, opposition, feminist??, finding, faced, opposite"
       ]
      },
      {
       "output_type": "stream",
       "stream": "stdout",
       "text": [
        "\n",
        "Top 10 terms for topic #39: equality, gender, support, believe, @punkthetic:, tumblr,, aspe\u2026, \"trendy\", morally, dont, hate, men, female, woman, never\n",
        "Top 10 terms for topic #40: movement, need, don't, http://t.co/yjf0qzjtwp, fem..., http://t.co/hewqp6trkw, #bostonglobe, \u270c, cuoco, kaley, experienced, lunacy, apologize, @julezthegreat, radicals\n",
        "Top 10 terms for topic #41: complaining., 99%, @marximillion_:, isnt, interested, persuading, asset, invested, ideals, promote, @feministallies, used, anything, excuse, joke\n",
        "Top 10 terms for topic #42: white, http://t.co/ie3kqiv9pj, @amaraconda:, think, people, need, rape, men, #heforshe., women...i, theory., demonize, @shieldmaiden143:, raped,, femfreq\n",
        "Top 10 terms for topic #43: can't, @pascalfx, cramps, menstrual, me\ud83d\ude02\ud83d\ude02\ud83d\ude02, men!, joke, you..., project:, @rossalynwarren:, represented, tho, http://t.co/fjjklfcseb, @qz:, tigele\n",
        "Top 10 terms for topic #44: kill, les\u2026, husbands,, encorauges, witchcraft,, @vaiensi:, children,, capitalism, practice, destroy, leave, become, woman, biscuit, wit\n",
        "Top 10 terms for topic #45: fuck, you're, sexual, http://t.co/xthkhpxfdd, #thefall, @millyjenn:, http://t.co/5jckqbnnlb, history., values, motherfucker., television, @zaidjilani, sadly,, days,, matter."
       ]
      },
      {
       "output_type": "stream",
       "stream": "stdout",
       "text": [
        "\n",
        "Top 10 terms for topic #46: social, equality, dont, believes, economic, sexes, can't, rights, person, people, tube, dealing, http://t.co/rdbvrws4ng, \u201cfor, good.\u201d\n",
        "Top 10 terms for topic #47: men, need, don't, \u2661, stop, privileged, everyone, girls, \"i, @6french6fries6:, else\", @purrbunny:, http://t.co/dobruzcfcs, aka, cares\n",
        "Top 10 terms for topic #48: get, need, college!!, @notofeminism:, bachelor, daughters, can\u2019t, avoid, sexually, send, wait, don\u2019t, trying, \u2026, @cermolayo:\n",
        "Top 10 terms for topic #49: find, don't, women, self-centered, \ud83d\ude15\ud83d\ude15, http://t.co/6ci03opdoa, languages, http://t.co/2hpdiqklmv, panorama:, mcsnezspicedlatte:, various, forget,, heck, arabia, @julezthegreat\n",
        "\n",
        "Which LDA topic maximally describes a document?\n",
        "\n",
        "Original document: RT @AlexisDerikSmit: \"I don't believe in feminism.\"\n",
        "\n",
        "SHUN THE NON BELIEVER. SHUNNN.\n",
        "Preprocessed document: [u'@alexisderiksmit:', u'\"i', u\"don't\", u'believe', u'feminism.\"', u'shun', u'non', u'believer.', u'shunnn.']\n",
        "Matrix Market format: [(13, 1), (14, 1), (15, 1), (16, 1), (17, 1), (18, 1), (19, 1), (20, 1), (21, 1)]\n",
        "Topic probability mixture: [(4, 0.90199999999997005)]\n",
        "Maximally probable topic: topic #4\n"
       ]
      }
     ],
     "prompt_number": 23
    },
    {
     "cell_type": "code",
     "collapsed": false,
     "input": [
      "import wikipedia \n",
      "import re \n",
      "import string \n",
      "from textblob import TextBlob\n",
      "from sklearn.feature_extraction.text import CountVectorizer\n",
      "from sklearn import metrics\n",
      "from sklearn import cross_validation\n",
      "from collections import Counter\n",
      "import gensim "
     ],
     "language": "python",
     "metadata": {},
     "outputs": [],
     "prompt_number": 24
    },
    {
     "cell_type": "code",
     "collapsed": false,
     "input": [
      "strtexts = str(texts)\n",
      "blob = TextBlob(strtexts)"
     ],
     "language": "python",
     "metadata": {},
     "outputs": [],
     "prompt_number": 32
    },
    {
     "cell_type": "code",
     "collapsed": false,
     "input": [
      "Counter(blob.words).most_common(20)"
     ],
     "language": "python",
     "metadata": {},
     "outputs": [
      {
       "metadata": {},
       "output_type": "pyout",
       "prompt_number": 33,
       "text": [
        "[('u', 61820),\n",
        " (\"u'http\", 11374),\n",
        " (\"'s\", 4965),\n",
        " (\"n't\", 4413),\n",
        " (\"u'right\", 2588),\n",
        " (\"u'women\", 2517),\n",
        " (\"u'today\", 2392),\n",
        " ('do', 2273),\n",
        " (\"u'asked\", 2273),\n",
        " ('i', 2264),\n",
        " (\"u'relationships\", 2264),\n",
        " (\"u'view\", 2251),\n",
        " (\"u'apparently\", 2251),\n",
        " (\"u'lesbian\", 2245),\n",
        " ('in', 2208),\n",
        " (\"u'hd\", 2190),\n",
        " (\"u'men\", 2187),\n",
        " (\"u'answer\", 2128),\n",
        " ('meninisttweet', 2020),\n",
        " (\"u'like\", 1933)]"
       ]
      }
     ],
     "prompt_number": 33
    },
    {
     "cell_type": "code",
     "collapsed": false,
     "input": [
      "\n",
      "Counter(blob.noun_phrases).most_common(20)"
     ],
     "language": "python",
     "metadata": {},
     "outputs": []
    },
    {
     "cell_type": "code",
     "collapsed": false,
     "input": [
      "senttexts = str(pos_tweets)+ str(neg_tweets)\n",
      "blob2 = TextBlob(senttexts)"
     ],
     "language": "python",
     "metadata": {},
     "outputs": [],
     "prompt_number": 36
    },
    {
     "cell_type": "code",
     "collapsed": false,
     "input": [
      "Counter(blob2.words).most_common(20)\n"
     ],
     "language": "python",
     "metadata": {},
     "outputs": [
      {
       "metadata": {},
       "output_type": "pyout",
       "prompt_number": 37,
       "text": [
        "[('u', 215),\n",
        " ('a', 192),\n",
        " ('feminism', 190),\n",
        " ('the', 165),\n",
        " ('feminist', 165),\n",
        " ('is', 150),\n",
        " ('to', 145),\n",
        " ('I', 139),\n",
        " (\"u'RT\", 123),\n",
        " ('and', 119),\n",
        " ('http', 106),\n",
        " ('of', 85),\n",
        " ('you', 81),\n",
        " ('that', 76),\n",
        " ('in', 72),\n",
        " (\"'s\", 69),\n",
        " (\"n't\", 67),\n",
        " ('for', 64),\n",
        " ('women', 63),\n",
        " ('on', 61)]"
       ]
      }
     ],
     "prompt_number": 37
    },
    {
     "cell_type": "code",
     "collapsed": false,
     "input": [],
     "language": "python",
     "metadata": {},
     "outputs": []
    }
   ],
   "metadata": {}
  }
 ]
}