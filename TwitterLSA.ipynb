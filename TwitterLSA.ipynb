{
 "metadata": {
  "name": "",
  "signature": "sha256:165a752ef81d627269cd3658eb69b7e2a389d386b8118f96853cee57d45ed6fb"
 },
 "nbformat": 3,
 "nbformat_minor": 0,
 "worksheets": [
  {
   "cells": [
    {
     "cell_type": "code",
     "collapsed": false,
     "input": [
      "import pymongo\n",
      "import tweepy\n",
      "import json\n",
      "from pymongo import MongoClient\n",
      "from bson.objectid import ObjectId\n",
      "from sklearn.feature_extraction.text import TfidfVectorizer, TfidfTransformer\n",
      "from sklearn.feature_extraction.text import CountVectorizer\n",
      "\n",
      "client = MongoClient('localhost',27017)\n",
      "\n",
      "db = client.dump\n",
      "print db.collection_names()\n",
      "print db.tweets.count()\n",
      "print db.tweets.find({'fem':1}).count() #neg\n",
      "print db.tweets.find({'fem':0}).count() #pos\n",
      "print db.tweets.find({\"fem\": {\"$exists\": False}}).count() #test\n",
      "neg_tweets = [(doc['text']) for doc in db.tweets.find({'fem':1})] \n",
      "pos_tweets = [(doc['text']) for doc in db.tweets.find({'fem':0})] \n",
      "neg_sent =  [(doc['fem']) for doc in db.tweets.find({'fem':1})] \n",
      "pos_sent = [(doc['fem']) for doc in db.tweets.find({'fem':0})]\n",
      "all_tweets= [(doc['text']) for doc in db.tweets.find({\"text\": {\"$exists\":True}})] \n",
      "sent = neg_sent + pos_sent\n",
      "traintweets = neg_tweets + pos_tweets\n",
      "type(sent)"
     ],
     "language": "python",
     "metadata": {},
     "outputs": [
      {
       "output_type": "stream",
       "stream": "stdout",
       "text": [
        "[u'langs', u'system.indexes', u'tweets']\n",
        "30597\n",
        "217\n",
        "217\n",
        "30163"
       ]
      },
      {
       "output_type": "stream",
       "stream": "stdout",
       "text": [
        "\n"
       ]
      },
      {
       "metadata": {},
       "output_type": "pyout",
       "prompt_number": 44,
       "text": [
        "list"
       ]
      }
     ],
     "prompt_number": 44
    },
    {
     "cell_type": "code",
     "collapsed": false,
     "input": [
      "\n",
      "import re \n",
      "import string "
     ],
     "language": "python",
     "metadata": {},
     "outputs": [],
     "prompt_number": 29
    },
    {
     "cell_type": "code",
     "collapsed": false,
     "input": [
      "def preprocess(text): \n",
      "    text = re.sub(r'[%s]' % string.punctuation, '', text.lower())\n",
      "    return text\n",
      "\n",
      "corpus = map(preprocess, traintweets)"
     ],
     "language": "python",
     "metadata": {},
     "outputs": [],
     "prompt_number": 30
    },
    {
     "cell_type": "code",
     "collapsed": false,
     "input": [
      "from sklearn.feature_extraction.text import TfidfVectorizer \n",
      "\n",
      "vect = TfidfVectorizer(stop_words='english', analyzer='word', ngram_range=(1,3), lowercase=True, min_df=2)\n",
      "\n",
      "vectorized_corpus = vect.fit_transform(corpus)"
     ],
     "language": "python",
     "metadata": {},
     "outputs": [],
     "prompt_number": 31
    },
    {
     "cell_type": "code",
     "collapsed": false,
     "input": [
      "from sklearn.decomposition import TruncatedSVD \n",
      "\n",
      "N_COMPONENTS = 100  # feel free to change this if you so desire; typical values are between 50 and 400\n",
      "\n",
      "tsvd = TruncatedSVD(n_components=N_COMPONENTS)\n",
      "\n",
      "embedded_corpus = tsvd.fit_transform(vectorized_corpus)"
     ],
     "language": "python",
     "metadata": {},
     "outputs": [],
     "prompt_number": 32
    },
    {
     "cell_type": "code",
     "collapsed": false,
     "input": [
      "\n",
      "from sklearn.cluster import MiniBatchKMeans \n",
      "\n",
      "N_CLUSTERS = 10  # feel free to experiment with this value, too\n",
      "\n",
      "clstr = MiniBatchKMeans(n_clusters=N_CLUSTERS)\n",
      "clusters = clstr.fit_predict(embedded_corpus)\n"
     ],
     "language": "python",
     "metadata": {},
     "outputs": [],
     "prompt_number": 33
    },
    {
     "cell_type": "code",
     "collapsed": false,
     "input": [
      "print clusters"
     ],
     "language": "python",
     "metadata": {},
     "outputs": [
      {
       "output_type": "stream",
       "stream": "stdout",
       "text": [
        "[4 4 3 5 6 2 1 5 6 1 6 1 1 6 3 2 6 6 6 6 6 2 6 3 6 6 3 1 6 6 1 6 6 6 1 3 6\n",
        " 3 6 1 6 3 3 3 6 3 3 3 6 2 6 1 6 1 6 3 2 6 4 6 3 6 6 3 3 3 6 6 6 6 3 2 6 6\n",
        " 6 3 6 6 6 6 3 4 6 4 6 6 2 1 3 6 6 3 2 3 1 3 3 2 5 6 6 3 8 6 3 9 2 6 6 6 6\n",
        " 4 6 6 3 6 6 6 3 6 6 6 3 6 6 2 6 6 6 6 1 6 5 6 7 2 3 2 2 7 4 6 6 1 2 1 6 6\n",
        " 6 1 1 6 1 3 3 2 6 1 6 3 6 6 6 6 1 2 2 6 1 3 7 6 1 3 6 1 6 1 6 6 6 6 3 6 3\n",
        " 4 6 1 6 1 6 3 6 3 6 7 2 6 6 6 1 6 2 3 7 3 9 6 6 6 6 6 6 3 7 4 3 5 6 5 5 6\n",
        " 3 6 6 0 0 6 7 3 6 6 6 6 6 5 6 6 6 5 6 0 6 6 6 5 1 7 2 6 6 6 1 3 8 6 8 6 6\n",
        " 3 3 6 3 3 6 1 1 6 5 1 2 3 1 2 5 9 6 4 5 3 3 1 2 3 6 1 9 6 6 6 6 1 0 6 6 6\n",
        " 2 7 6 6 1 9 6 2 3 9 6 6 5 2 1 5 6 6 1 3 6 3 3 6 3 6 3 3 9 3 7 6 2 3 3 6 6\n",
        " 2 6 6 3 6 6 6 4 4 3 1 3 1 3 6 9 2 3 1 6 6 6 6 3 6 5 6 5 6 2 6 1 6 3 4 6 6\n",
        " 3 6 6 4 6 6 1 6 2 1 6 6 3 6 7 6 2 3 1 6 3 3 6 1 3 4 2 6 3 6 6 9 6 3 1 3 3\n",
        " 1 3 3 6 6 2 6 4 6 1 6 1 6 3 6 3 3 2 6 5 4 6 6 6 4 1 6]\n"
       ]
      }
     ],
     "prompt_number": 34
    },
    {
     "cell_type": "code",
     "collapsed": false,
     "input": [],
     "language": "python",
     "metadata": {},
     "outputs": []
    },
    {
     "cell_type": "code",
     "collapsed": false,
     "input": [
      "from collections import defaultdict\n",
      "\n",
      "clusters_to_content = defaultdict(list)\n",
      "\n",
      "for subject, page in zip(corpus, clusters): \n",
      "    clusters_to_content[page].append(subject)\n",
      "\n",
      "for idx in clusters_to_content: \n",
      "    print(idx)\n",
      "    print(clusters_to_content[idx])\n",
      "    print('\\n')\n",
      "    \n"
     ],
     "language": "python",
     "metadata": {},
     "outputs": [
      {
       "output_type": "stream",
       "stream": "stdout",
       "text": [
        "0\n",
        "[u'rt amaraconda white feminism httptcoie3kqiv9pj', u'rt amaraconda white feminism httptcoie3kqiv9pj', u'rt amaraconda white feminism httptcoie3kqiv9pj', u'rt amaraconda white feminism httptcoie3kqiv9pj']\n",
        "\n",
        "\n",
        "1\n",
        "[u'ellekersten because  theres a difference between a women who is a feminist and a women who wants equal rights feminist are crazy', u'tweetlikeamisogynisticasshole feminism is so stupid this is what happens when you let women out of the kitchen lol', u'rt princesskanye tweetlikealocal feminism is nothing but an excuse to show youre tits because your an ugly slut \\U0001f612', u'rt jasonmansfielde tweetlikealocal feminism was needed when women didnt have rights but now you do so why are you even complaining', u'tweetlikealocal feminism is about women wanting to be superior than men', u'rt lxlita tweetlikealocal feminism is about women wanting to be superior than men', u'rt princesskanye tweetlikealocal feminism is nothing but an excuse to show youre tits because your an ugly slut \\U0001f612', u'rt coospiah tweetlikeamisogynisticasshole feminism is so stupid this is what happens when you let women out of the kitchen lol', u'rt farwzaz why feminism why not humanism men shouldnt have rights u want women to be superior we should all be equal httpt\\u2026', u'feminism teaches women dependency   httptcoutosvu6nmf  14a\\u2600crlive\\u25bahttptcok2zzprrx1q\\u25c4sot wwe foxnews tcot', u'sooooo youre a feminist showing major skinhow does that work', u'feminism a movement that is for women is so misunderstood to the point where it\\u2019s still about men', u'bitch ur a shame to women everywhere  i doubt women would enjoy ur pms comeback  its as weak as your feminism mizzminx', u'if youre a girl and your not a feminist then youre dumbare you fucking kidding me its a girls right to be a feminist or not', u'panorama mcsnezspicedlatte never forget no one hates women more than a feminist httptco2hpdiqklmv', u'thats the point they arent real feminist they are a new toxic breed targeting women and pushing them out game industry\\njulezthegreat', u'rt madelinelewis feminism is disgusting i cant believe women want to be treated like humans instead of objects how dare we', u'if youre a feminist and youre telling women theyre stupid if they arent then youre dumb \\U0001f481', u'julezthegreat theivyclover1 because feminism is america is stupid women are not oppressed here at all go to saudi arabia and see it', u'lol bitch just because im not a feminist doesnt mean im a meninist fucking shove it', u'im all for supporting women seeing them safe and successful but feminism is doing exactly what rockefellers funded it to do', u'ban women from using twitter to promote feminism', u'if you believe in equality and are against rape and domestic violence youre not a feminist youre a good person congrats motherfucker', u'if women want equality why are there still women only groups and gym classes doublestandards feminism', u'mikaelagnarr feminism  exploited existing biases favoring protection of women by stereotyping men as strong and a threat it wasnt equal', u'rt simplerodney women in america fuck your feminism yall so worried of others who all aint worried for you before yourself amp wonder why\\u2026', u'masculinity in men is demonised whilst masculinity in women is simply feminism hows that for a perverse double standard eh haha', u'rt catoholic you are not a feminist if\\u2070 you exclude trans women\\u2070 you believe men are the problem\\u2070 amp women cant rape\\u2070 or you body or slu\\u2026', u'blemur lyude and feminism in turn should seek to support people that arent cis white women', u'femfreq nobody voted you to represent women in the largest entertainment medium in the worldyour brand is hate and dilutes real feminism', u'all women are humans and all humans are animals but no nonhumans are women veganism  freeing all animals feminism  freeing all women', u'rt shaunduke feminism  equality for all sexes feminism \\u2260 making men slaves feminism \\u2260 making women superior feminism \\u2260 whatever crazy\\u2026', u'everyone should check out httptcolixkwdkl3j an amazing feminist website that allows women to reclaim their bodies and their stories', u'newsflash  being a feminist doesnt mean you hate men or family valuea you can be a feminist and still a sahm are we understood', u'novamente im feminist because i am a woman and im a lesbian because i love women', u'newsflash  being a feminist doesnt mean you hate men or family values you can be both a feminist and a sahm understood feminism', u'dazedcat agreed women can have big muscles toofeminism thebachelor takecareofyourbody', u'feminism isnt just for women its for equality for both men and women just because it has fem in the name doesnt mean its exclusionary', u'rt cwissi that meninist twitter account promotes violence against women misinterprets feminism amp people actually follow amp support it d\\u2026', u'rt matthewbeasleyy feminism doesnt only benefit the female sex men are also deprived of equality and the sad thing is that most of the\\u2026', u'rt punkthetic just because someone identifies as a feminist doesnt mean that they hate men or are totally against girly things  like ma\\u2026', u'that meninist twitter acc is ridiculous bc the whole point of feminism is equality its not women thinking theyre superior', u'feminism is the radical notion that women are human beings', u'im a feminist means about as much to me as youre a socialist', u'zaidjilani sadly because so many men are misogynists these days saying youre a feminist does matter', u'its also sad that theyre unableunwilling to scrutinize society amp instead take the easy path of blame the women feminism is evil', u'its comments like this that oppress women and their equality rights yesallwomen feminism httptcogedz9x3oye', u'rt steveandbuckie if your feminism doesnt include trans women and women who are comfortable being sexual beings then youre doing it wr\\u2026', u'rt arcticanwxar and if you claim religious evidence for your misogyny then youre an idiot bc islam completely backs up feminism', u'my biggest pet peeve is when young women bash feminism especially women of color', u'as a feminist youre supposed to empower other women not bring them down', u'rt homelandsexuals pssst feminism fights for mens rights too feminists just realize women face more problems than men but it h\\u2026']\n",
        "\n",
        "\n",
        "2\n",
        "[u'rt daxpartyflames maaaggg meninisttweet barrettshepherd tumblr feminism is hilarious though like we gonna reblog shit and make a dif\\u2026', u'id very much like to punch a feminist  adventureathlete thattallsummonerguy olisaurusrex httptcofrj518unul', u'feminism is not an excuse for being a slut dont say i can do what i want with my body and then claim slut shaming is a thing', u'rt nickmullen feminism is a cancer he typed vaping and chugging mountain dew its killing us men the microwave dinged his taquitos\\u2026', u'girls are just looking for an excuse to fight about feminism honestly i dont want to hear that word again', u'this is what a feminist utopia would look like  clementineford on her misandream httptcorwjujjegqk', u'so feminist i smack my bf around dont eat meat but lil kids die making the shoes on my feet i meditate clean soul drenched in beer', u'feminism needs to die out the fact is that they dont want equality they want special treatment by painting men as the evil of society', u'mjoyoldfield dont get started on that brainwashed feminist hack', u'\\u201cim a modern day feminist\\u201d\\n\\nnah youve hopped on the bandwagon and look like a cunt \\u270b', u'themoviebob kheapathic or do you think the principia is a rape manual like those feminist postmodernist academics', u'007bistromath 1 the fact that im using their tactic against them is hilarious 2 i dont want to see fake feminist bs on my tumblr', u'i honestly hate feminist like shut up', u'that whole feminist bullshit is basically females sayin we can be men too dum hoes', u'dont complain that men are so horrible when you participate in objectifying activities you might sound like a paradoxical feminist', u'guess im dumb as heck because i dont want to join every girl in the world to become feminist because i dont really give a shit about it', u'femitheist tamedinsanity like i said i dont read much feminist or mra materialmy objection to feminism is based on my observations', u'i dont think feminism is for white womeni like feminism in theory', u'rt shhheeran feminism is toxic dont let the feminists overpower men im all for quality tho ha ha just dont give them more power', u'rt mirross feminism is unnecessary this is america not like the middle east or whatever lol  httptcoe0swaahlqb', u'rt alexisderiksmit idk i think feminism should be called something different like common sense or something', u'kennywork are you kidding that is the entirety of the movement if you think feminism is about hating men then you need to research more', u'i have never said i was feminist bc i dont want all of you dragging me saying im only feminist on twitter or tumblr', u'i am honestly so happy thats its socially acceptable to be a feminist now like wow go equality', u'the internet sometimes treats feminism like a constant contest about who has the best feminism and thats not my kind of feminism', u'amysgotmilk i started talking to this girl and we totally bonded over feminism so i was like httptco4swmp5styu', u'i think i would like 50 shades of grey better if it was the woman who was the dominant feminist', u'i despise the fact that menimist is even a thing \\U0001f612 its honestly disrespectful and makes feminism seem like a joke', u'hi if it annoys u i identify as feminist then like unfollow me like block me like go away why u even reading this to begin w', u'httptco8zll4zcs5f dreamwurks\\n\\nwhat feminism does for men helps fight to end discrimination over men wea httptcovjbutg3vb1', u'rt paracryptid if yooooooureeeee not a feminist stay away from meeeeeeeeeee bc i dont rlly want people in my life who dont care about my \\u2026', u'rt lagrosera feminism 2k15 sounds like reflection welcome to the movement', u'i have at least five extremely feminist declamations written and like ten moderately feminist ones how do i stop', u'remember like 6 months ago when no one talked about feminism', u'cousin said she doesnt like that beyonce considers herself feminist when she tries 2 be sexy all the time amp i almost straight up decked her', u'rt womenforaction transgenderhulk think u would like feature article on inclusiveness 4 transgender women within feminism httptcovp\\u2026']\n",
        "\n",
        "\n",
        "3\n",
        "[u'another thing feminism is no longer about female rights or any other rights feminism is now just false facts', u'living under that feminist badge is great until you need help from the same people you bash on twitter all day long', u'lindseytwood ruthannharnisch jackizehner aelizabethclark 163 per 1000 far cry from 1 in 5 lie feminism is hate', u'boodooperson brianmtaylor and let me tell you why feminism is irrational', u'areyouafeminist heforshe is a fraud that pretends to care about mens issues but only formally supports feminism womenagainstfeminism', u'tweet me something funny ppl on twitter only tweet about feminism and sports', u'rt rannnaaaa real feminism vs todays idiots that just wanna get naked httptcokmthkpkabn', u'theabbiebarron charltonchantal feminism is 4 losers fuck female they not good spreadthepoop peeforshe', u'im sorry but racism terrorism discrimination against gay and transgender people is way worse then feminism priorities people', u'vrcsports sluggahjells nolesfan2011 mzemek lolol played the feminism card pointlessly and struggles to deal when the focus aint on you', u'booty baby loveya aintnoroastbeef emilyjadee gimmebooty gimmevag lookatmyvagina feminism\\u2026 httptcofbkaz2zy0m', u'delgraves you are not oppressed in western society feminism belongs in the middle east and asia', u'i want to make a large part of my brand just how absurd twitter feminism is', u'trainedemotion brungerb fortunately in a feminist and effeminate culture doing something about it generally just means hashtags', u'its hard to keep finding the energy to keep fighting the good fight when faced with such unreasonable opposition such as modern feminism', u'feminism is just chauvinism except from the opposite side oh ok', u'rt bandsontumblr i don\\u2019t support feminism because i don\\u2019t hate men httptcof613mr1ie8', u'i just got followed by a feminist and two porn accounts i don\\u2019t really dig either of those things', u'99 of feminism is just complaining', u'who tf cares about feminism or meninism i just hope they closefcps', u'rt 6french6fries6 girls against feminism aka im privileged so who cares about everyone else', u'just bc u rebel against ur parents doesnt make u a feminist booboo', u'rt millyjenn feminism has nothing to say but still wont shut up httptco5jckqbnnlb', u'mt89 misterfister cflfrances feminism seems to be the default ideology for girls who cant get their shit together', u'rt malakhgabriel carceral feminism is just another way to maintain white supremacy class divisions and yes even patriarchy', u'rt 6french6fries6 girls against feminism aka im privileged so who cares about everyone else', u'when u preach feminism but take every chance u can to talk shit on peoples appearances', u'lukerockhold dcmma danawhite lorenzofertitta if a male said the same things to a female there would be a public outcry feminism ', u'theexpatterson amaninblack yeah i got depressed from reading feminism since the stats were dubious the foundation was unscientific', u'the revolutionary girl understands that feminism has been hijacked by capitalist institutions and turned into a fetishistic cult', u'if feminism mean i gotta kill a spider myself then fuck that ain wit it', u'modern feminism theory if you look at a piece of media and find out you arent a victim you havent looked hard enough', u'julezthegreat theivyclover1 sinodna the idea of equality is good and all but feminism as a brand is fucked because of all the radicals', u'rt wakana584 olga levancuka  has feminism gone too far or will we no longer have a plac httptcormcfc3loxe httptco6cgsgews9i', u'so many dumb feminist out there in the world so sad i hope its just a teenage face', u'\\u201cyoungblkrepub neo fembots killed feminism a long time ago tweetlikeafeminist httptcoje7c6yebxh\\u201d', u'this snapchat update has proven that feminism has gone too far girls are just as capable of cheating via snapchat and i am offended', u'rt dontbegit \\u201csandmanymn feminism is the last thing yemen needs \\U0001f602\\U0001f602\\U0001f602\\u201d moneygtfemenism', u'i understand where feminism is coming from but every white girl on here tweets about marrying rich or finding a husband values havent', u'anitasarkeesian must feel great piggybacking off the attention from this fake feminism bullshit amirite', u'first step to taking back control\\u2014to being truly empowered\\u2014is to reject feminism httptcobyjsgbvley', u'its always the losers whining about feminism lol real ass people are too busy living their life to complain about female empowerment', u'rt justlaurenb it is feminism teaches girls theyre inferior and that all males are their oppressor its poisonous\\nwomenagainstfeminis\\u2026', u'rt neilyourself heres why i dont take feminism seriously the juggling the pies the huge shoes and red noses this is supposed to be \\u2026', u'rt melissagira feminism should have no room for \\u201cfor her own good\\u201d', u'bjork talks her new heartbreak album vulnicura kanye west and feeling a fourth wave of feminism with pitchfork  httptcow7dlyhedk0', u'my assignment in english is about the beginning of feminism this is my fucking calling im gonna ace this shit', u'rt ingloreus heres a few statistics to show why feminism is pretty much needed httptcoxwas5nw2jy', u'look i am down for feminism  but anita sarkeesan well said girls cant play games so shes making it easy for girls to c', u'ajwetterau ive realized our friendship is just one long on going conversation about feminism wagsscholars', u'rt hiitsnotme new feminism blog from nsvrc what brought you into this work httptcoly7rfacpmf', u'yoooo feminism is real', u'how do girls get acculturated to be silent girlsmatter girlpower feminism httptcouzpwmzkx3m', u'rt lrystirfry girls who dont understand feminism make me scared for the future', u'grandma feminism she gets excited when there is a lady winner of jeopardy babysteps', u'contestant talks about her career bachelor gets confused because words feminism thebachelor', u'how hard is it for people to understand that feminism isnt supposed to hurt anyone people with all sorts of genitalia can be nice try it', u'rt meganokay feminism is more than just cat calling and school dress code people need to learn that httptco6gsv6xfawu', u'rt blemur when will dudes realize that feminism can help free from the bullshit macho parade were forced to put on all the time for othe\\u2026', u'if u think the feminism marches are just about getting naked you are so wrong', u'veganfem and your justification for extending feminism to animals females is cissexist and a simplistic interpretation of feminism', u'new slogan for feminism puy p0w3r', u'feministallies if i wasnt invested in persuading people not to be sexist i wouldnt be much of an asset to feminism', u'theqbannon krisinthetardis not to be a 50s housewife cliche and set feminism back but what i wouldnt give for a rich husband right now', u'emerylord creme brulee ella enchanted feminism soulmate', u'rt uttjamie why our feminism must be intersectional and 3 ways to practice it httptcorsjcbv9h7z', u'we need to focus more on transnational feminism in order to get a bigger picture and open our eyes to other nations view  wmst2013', u'rt ohgryffindor emwatson how can a girl be against feminism', u'rt v1ctorial misconceptions about feminism make me super sad but people buying into misconceptions those and preaching them is even wors\\u2026', u'i love how people think feminism is just for women hahah', u'if i had a dollar for every time some stupid american teenager tried to prove that feminism is not needed i could buy them all a education', u'today on tbh ollie henderson on feminism fashion and beauty as well as her hopes for the future httptcoxoeqoqprok starttheri', u'rt internetgiri how are you going to be a female and be against feminism that just proves you care more about male attention than equali\\u2026', u'do people realize that the book definition of feminism is literally httptco1rdzrw7zbp', u'the fact that we have to argue that feminism is a valid movement is reason enough if ur askin me', u'shout this from the rooftops feminism httptcomzsmyn9tk4', u'i talked briefly about feminism with the president of overstock today so that was interesting', u'when ppl compliment me on my feminism it makes me  inside', u'under the continuous debate that feminism has little value in the 21st century guest blogger tigele nlebesi boldly\\u2026 httptco5hebl9xbys', u'natsasaulim i have nothing against her as a person i heard shes great and smart and advocates for feminism but girl cant act for shit', u'brave honest beautiful is just a great feminist song in my opinion', u'meninisttweet calmly picks up mic using rape to make fun of feminism only shows how convoluted and disgusting meninist thinking is', u'phoneticmeow davidthedeer punkbeds boys to avoid boys that are against feminism boys that call girls httptcomey4jsw1eu', u'if you are a young lady out there who belittles feminism please feel free to just deduct your 77 cents immediately', u'why early wonder woman was a champion of feminism and bondage wonderwoman httptcol7ymz0kuw0', u'so many different perspectives on feminism this chapter interesting as hell', u'stop dismissing the importance of online activism just bc its not real life feminism whatever the fuck that means']\n",
        "\n",
        "\n",
        "4\n",
        "[u'rt heaavenhelpus i dont need feminism because httptcon89k31w4c2', u'rt ayyheaven i dont need feminism because httptcobgf3jhlhvl', u'rt alicefraser1 but we dont need feminism you privileged little girl\\nyeah i may be privileged but these girls arent httptcopcpx\\u2026', u'photoset peacelovehippieness we dont need feminism o k httptcoj9pxxjm5df', u'rt katierose015 i dont need feminism httptcohpblkazcqi', u'photoset peacelovehippieness we dont need feminism o k httptcordbvrws4ng', u'rt womagainstfem i dont need feminism because womenagainstfeminism httptcor2pxwr4bup', u'i dont need feminism because we already have equality why do some women insist on oppressing themselves \\U0001f62d', u'rt womagainstfem i dont need feminism because womenagainstfeminism httptcopnjcz1qjzv', u'i dont think theres anything i hate more than females who say they dont need feminism just because they havent experienced inequality', u'dannahm97 this is why i need feminism', u'people who say we dont need feminism  and everyone is already equal clearly arent aware of whats going on around the world', u'rt purrbunny \\u2661 why i need feminism \\u2661 httptcodobruzcfcs', u'rt purrbunny \\u2661 why i need feminism \\u2661 httptcodobruzcfcs', u'rt shieldmaiden143 i need feminism because people still think the problem is that women get raped not that men rape them yesallwomen', u'i need feminism because my values shouldnt be based on my sexual history', u'rt murrburrs why men need feminism httptco23epuiulbp', u'i need feminism because t swift is made fun of for her songs about past experiences but robin thicke is praised for his song about rape']\n",
        "\n",
        "\n",
        "5\n",
        "[u'valkyrieann and if a girl thinks im supposed to believe anything she says because of gender she not a feminist she just a cunt', u'rt mensrightsrdt mensrightsreddit you cant deny it gender studies is full of maleblaming bias submitte httptcohnhgtiuayy f\\u2026', u'help me fight for equal rights for men feminists all hate men even tho definition for feminism is belief of gender equality', u'zerobiscuit defend artistic freedom from gender feminist moral panic join gamergate  httptcobqfmlgyyq6', u'rt punkthetic feminist support gender equality not female supremacy get your facts straight before you post something ignorant on the int\\u2026', u'rt punkthetic dont support feminism because its trendy on tumblr support it because you morally believe in gender equality in all aspe\\u2026', u'psa this is feminism it is for women and men addressing prejudice amp gender roles against both call yourself one httptcokbajbmoqdr', u'rt pajamasam true feminism always promotes equality among all people despite gender sexuality race etc', u'rt punkthetic dont support feminism because its trendy on tumblr support it because you morally believe in gender equality in all aspe\\u2026', u'yo wikipedia wtf is this all about feminism sexuality gender httptcohrkayepoms', u'rt delgraves psa this is feminism it is for women and men addressing prejudice amp gender roles against both call yourself one http\\u2026', u'rt heforshe rt sugarscape watch emma watson give yet another kick ass speech about feminism and gender equality httptcoxoqe1hsoq4', u'gender culture and representation feminist science fiction and feminist science studies this guides present httptcoluj645oc7y', u'we need a true face of feminism amp i pick emwatson  not femfreq emma is for equality not for herself or to demonize me based on gender', u'when a guy tells me they dont support feminism httptcobe927zzbmo', u'rt punkthetic dont support feminism because its trendy on tumblr support it because you morally believe in gender equality in all aspe\\u2026', u'teatime social review feminist forum gender equality httptcocpy82romkc', u'interested to see how emwatson changes the female gender roles in beauty amp the beast disney classic  feminism  ']\n",
        "\n",
        "\n",
        "6\n",
        "[u'sends booty pics in feminist group chat of 15 people', u'rt ouijameme reasons to be vegan\\ndestruction of environment\\ncapitalism\\nanimal rights\\nnot reasons to be vegan\\nfeminism\\nthe female an\\u2026', u'rt scarrscarlett im not a feminist\\nbeyonc\\xe9 didnt die for this', u'specific parts of the feminist movement are starting to piss me off', u'rt flashjunkmind tweetlikealocal im not a feminist i believe in equality', u'rt meganstarbird tweetlikealocal feminism is dumb and american sniper is the best movie in the world', u'lindseytwood ruthannharnisch jackizehner aelizabethclark nytimes is a lying feminist rag doj sex assaults on campus 1 of 2', u'rt meninisttweet list of ways to win an argument with a feminist httptcozohiwumw64', u'my ex was a feminist until she needed money im a chauvinist until its cold outside and im lonely', u'detailed diagram showing the complexities of the feministnonfeminist cooperation spiral  httptcodqxrohgv7c', u'nonfeminist branding in various languages  httptco6ci03opdoa', u'feminism was created to encourage equal rights for both genders but a lot misunderstood that and now its literally those who hate men', u'slushstuff feminist on the internet think everyonething is misogynistic lol', u'rt spiritualvodka jokes about women its a joke dont take it so seriously haha\\n\\njokes about men this is why feminism is toxic we \\u2026', u'rt yesmeninism i need meninism because its so much easier to pretend women cause all my problems than to admit what i actually need is f\\u2026', u'nonfeminists make own posters in response to latest feministmisandriuc poster campaign  httpstcooxtmgk6hr7 amp httptcoigzxew53us', u'rt meganstarbird tweetlikealocal feminism is dumb and american sniper is the best movie in the world', u'im not a feminist im a normal woman who respects her worth and the mans thats normal not feminism', u'the lunacy of the fem bostonglobe httptcohewqp6trkw', u'tweetlikealocal lmao i hate feminist', u'tweetlikealocal ive never seen a pretty feminist before', u'no offense but why do some black women think they can be feminist the black man was never against u we never started that movement', u'rt robinashe feminism thrives on ignorance thats why they want to maintain it niceantifem', u'let the record show that the last tweet was a joke before feminist twitter hop on my head', u'rt thespan1ard whats the difference between a feminist and a knife\\n\\na knife has a point\\U0001f52a', u'rt gruuvy bitches cheat as much as niggas bitches lie niggas lie \\ntired of this feminist shit', u'rt anthonylarme nonfeminists make own posters in response to latest feministmisandriuc poster campaign  httpstcooxtmgk6hr7 amp http\\u2026', u'rt trainedemotion we live in a feminist and effeminate culture \\n\\nmanhood lost httptcoxatvlgra6g', u'rt sareeezyyy feminist on twitter just want to post inappropriate  pics and not get called out on it lol', u'rt cermolayo cheats on me then lies about getting raped so i wouldnt get mad and then claims to be a feminist', u'okay yallyouve seen it here a feminist admits it is all about womens rights womenagainstfeminism point proven httptcoehi0pmpynr', u'i care a lot about protecting the sex life or criminals that frequent doxxing forums im truly a feminist gamergate httptcommxke7zqix', u'chances are that these words alone will make any selfdescribed feminist very very upset httptcoahsrak7qta via michaeljhurd1', u'rt jasonmansfielde tweetlikealocal says something misogynistic for attention feminist twitter boutta be in my mentions bruh \\U0001f629\\U0001f629\\U0001f629', u'nobody takes you as a serious internet feminist unless you have a septum piercing dyed hair and use u instead of you while typing', u'rt aliceteller tradition taught women to entice enchantand enthrall men\\nfeminism teaches us to berate nag and demand \\nhows that wo\\u2026', u'rt yesmeninism i need meninism because its so much easier to pretend women cause all my problems than to admit what i actually need is f\\u2026', u'rt aliceteller tradition taught women to entice enchantand enthrall men\\nfeminism teaches us to berate nag and demand \\nhows that wo\\u2026', u'rt spiritualvodka jokes about women its a joke dont take it so seriously haha\\n\\njokes about men this is why feminism is toxic we \\u2026', u'rt meganstarbird tweetlikealocal feminism is dumb and american sniper is the best movie in the world', u'rauhlswhiteside babybiebsbread haaaylola whoissizzle so sick if this is a feminist thing its going too far sick \\U0001f637', u'rt redlianak criticize feminist frequency get labelled an mratransphobe thats not feminism thanks thats just bullying httptco\\u2026', u'karishma17 xbijoubijoux republicanmrs it wouldnt take all night i have literally rebutted every feminist argument several times', u'rt vaiensi feminism encorauges woman to leave their husbands kill their children practice witchcraft destroy capitalism and become les\\u2026', u'rt alimontero1 if you actually want equality you wouldnt believe in feminism the brilliant lafleursavannah ', u'rt vaiensi feminism encorauges woman to leave their husbands kill their children practice witchcraft destroy capitalism and become les\\u2026', u'rt notofeminism i don\\u2019t need feminism i can\\u2019t wait to send my daughters to college to get a bachelor of trying to avoid being sexually \\u2026', u'rt feministfailure actually the wage gap has been refuted by economists hundreds of times\\n\\nhttptcofm8yizfoe1\\n\\nlaurenenders http\\u2026', u'rt lxlayyy being a feminist doesnt give you the right to talk bad about guys', u'if you a feminist i cant fuck with you you and your menstrual cramps stay away from me\\U0001f602\\U0001f602\\U0001f602', u'rt lxlayyy being a feminist doesnt give you the right to talk bad about guys', u'rt lxlayyy being a feminist doesnt give you the right to talk bad about guys', u'the bridesmaid is a feminist ruinaweddingin5words', u'rt meganstarbird tweetlikealocal feminism is dumb and american sniper is the best movie in the world', u'theexpatterson amaninblack but it was many years ago i stopped reading feminism because it stopped making sense to the world around me', u'really creepy that my face and twitter handle is all over twitter right now because of that dumb feminist i argued with', u'andrewbleh amaninblack uh huh ya that makes sense feminism is what stopped making sense', u'rt prowomanchoice this makes me laugh every single time  feminazi feminism yesallwomen feminist misogyny fem2 waronwomen p2 htt\\u2026', u'rt fidelbogen blackbeard20096 jessicavalenti  feminism has been creating toxic environments for years and we are getting fed up ant\\u2026', u'welcome to twitter where your opinion on anything doesnt matter unless you 4000 followers and are a twitter feminist', u'apestiesview  im guessing your a feminist too retard', u'rt animedating baka feminist girlfriend or kawaii anime girlfriend not a difficult choice', u'rt notofeminism i don\\u2019t need feminism i can\\u2019t wait to send my daughters to college to get a bachelor of trying to avoid being sexually \\u2026', u'rt thebardockobama calling yourself a feminist\\n\\nbecause your unattractive hairy physique isnt enough to push men away and die alone', u'rt vikramarora20 ptinews  timesnow cnn \\ndelhielections stop feminism n fakecases on men 498a stopmarriagebill novote2antimen ht\\u2026', u'i cant stand selfrighteous feminist', u'the quickest way to end a convo with a feminist is asking them to fight if they say thats wrong well thats feminism', u'unsubtledesi kannan9900 we need to find solutions to contemporary challenges from a feminine and not feminist pt of view svigyananand', u' victorialwalton why start calling yourself feminist when the word misandrist already exists  equalist stoptheimmaturity letsbereal', u'fuck feminist', u'you can believe in womens rights and not be a feminist', u'out of all the activist groups sadly i find the feminist movement extremely oppressive and policing i hate to be a woman and feel this way', u'cmclymer my partner isnt a feminist\\n\\nsaveaweddingin5words fixed it for you', u'rt madelinelewis feminism is evil those awful feminist witches wanting equality and safety how dare they', u'they want anyone who isnt a social justice warrior radical feminist fired and push their sjw radfem friends into jobs\\njulezthegreat', u'im actually laughing at the fact at how butt hurt some of these radical feminist are being over total biscuit', u'mychemicalstory feminist extremists are worse than game of thrones characters', u'rt vikramarora20 ptinews  timesnow cnn \\ndelhielections stop feminism n fakecases on men 498a stopmarriagebill novote2antimen ht\\u2026', u'toxic feminist propaganda im laughing', u'smh selfcentered feminist who cant get a guy \\U0001f615\\U0001f615', u'wish i had a dollar for every time a feminist said toxic masculinity', u'pascalfx feminist cant take a joke', u'emilyann128 also i believe tht i stand 4 equality more so than a feminist i believe every life should be treated', u'bloody feminist using your coochie as a weapon its incredibly effective', u'feminist are annoying', u'huffington post and jezebel fall for a hoax httptco1plq31e3uq uvahoax womenagainstfeminism', u'gamergate is a fucking joke also feminism is being used as an excuse to promote very stupid ideals', u'when i said dumb feminist i wasnt talking about anybody specific ', u'amandamarcotte who makes the sandwiches for a feminist picnic justwondering', u'rt zkotek feminism is victimculture \\nremynorth justlaurenb thegags29 thelokijotunn mylostgadget mt89 slutwalkto httptcoj\\u2026', u'tonycollinet typical feminist shite cant argue the case so block go run to daddy youre opinions worthless', u'rt meninisttweet today a feminist asked me how i view lesbian relationships \\n\\napparently in hd was not the right answer', u'my two cents on why thisgirlcan is great and on exaggerated expectations of feminist campaigns httptcoo4sw5ebdra\\u201d', u'rt exnihilo0 look up the definition of propaganda and youll see that that is exactly what feminist frequency does gamergate', u'moongeesefacts moon geese are the ultimate weapon against the feminist conspiracy', u'feminist twitter the worst', u'rt nohoesnick feminist twitter the worst', u'cant be dealing with these feminist comments on you tube', u'rt exposefeminism fear is the weapon of the 3rd wave feminist gamergate  from facebook social justice warriors feminismislies http\\u2026', u'rt celebrinando beyonce that word feminist can be very extreme httptcoaa3iy9iosb feminismisawful gamergate feminism httpt\\u2026', u'do not rape a feminist it would fulfill her hot rape fantasies and let us be honest what kind of animal would want to make a feminist happy', u'rt talesoftheeast quickest way to destroy a crush is to ask for their views on feminism', u'marlothomas this goes against the feminist notion that men are at best superfluous to families that is when theyre not abusersmolesters', u'rt justlaurenb thank you ive never been a feminist i just saw what it did to the men around me the more i learned the more anti i got\\u2026', u'rt alexisderiksmit i dont believe in feminism\\n\\nshun the non believer shunnn', u'rt notallbhas white feminist\\u2122 called out on racist appropriation responds claiming she has no obligation to respect other cultures http\\u2026', u'rt alexisderiksmit i dont believe in feminism\\n\\nshun the non believer shunnn', u'rt snoozyloser if ur a girl that is against feminism why r u voting why r u wearing pants how can u read', u'rt thetrudz that book raises the hairs on my neck its so important to me as someone who found womanism amp blk feminism via bws music an\\u2026', u'people base their concepts of feminism off what one feminist says but if we base our concept of sexism off what one male says were sexist', u'rt alexisderiksmit i dont believe in feminism\\n\\nshun the non believer shunnn', u'rt scifine gandhi was racist amp misogynist stop using his quotes in the context of feminism and uplifting the black community', u'rgay luv ur work esp bad feminist but sometimes i think us white men will read it and feel excused from our racist misogynist behavior', u'badhbhcatha plastik808 the creep has been trolling feminist hts for ages', u'why do people use the word feminist like its a bad thing that irritates me so much', u'rt scifine gandhi was racist amp misogynist stop using his quotes in the context of feminism and uplifting the black community', u'rt scifine gandhi was racist amp misogynist stop using his quotes in the context of feminism and uplifting the black community', u'rt yesmeninism i need meninism because its so much easier to pretend women cause all my problems than to admit what i actually need is f\\u2026', u'rt pixiecristin people base their concepts of feminism off what one feminist says but if we base our concept of sexism off what one male\\u2026', u'rt brbabblingbooks feminism does not kill injure or destroy many other  belief systems do dont apologize for being a feminist yesa\\u2026', u'i mean people can base their definition of feminism off of what one feminist says or acts like', u'its so ironic how the words feminist and sexist are almost synonyms for most people these days xd', u'mathewbcrawford \\U0001f618 matching radical feminist scarves oversized specs and check tops on date 1 ', u'the chick who was cast as the woman in 50 shades claims she supports equality amp that theres nothing anti feminist about the book but', u'rt jessicakroy finally a feminist snowstorm httptcoqoya214jde', u'rt shoe0nhead what happens when a 3rd wave feminist meets a real feminist\\n\\nthis will always be a classic chsommers httptcocmquw4zr\\u2026', u'rt kelsiecercone dear anti feminist females httptcocclge0foq3', u'rt raz0rfist alpha calling out sarkeesian for braindead logical fallacies is antifeminist in the same way that greeting a sunrise i\\u2026', u'is emma watson really doing live action beauty and the beast seems at odds with her feminist principles no megpirie', u'rt bastilleer why do people use the word feminist like its a bad thing that irritates me so much', u'all of the backlash against the feminist movement justifies the need for the movement in the first place lmao \\u270c', u'feminist frequency to pivot toward combating \\u201cgendered online harassment\\u201d httptcoeqw4iibyjp tech gadgets science', u'rt donte502 if cinderella was a feminist httptcogfzqo7ajhm', u'rt vintagesaturday reminder that you fundamentally cannot be a feminist if you are against sex work god bless', u'rt cdnwomenfdn we are hiring a public relations amp online engagement coordinator deadline jan 30th httptcovftcdfi7tj prjobs cana\\u2026', u'rt ouijameme reasons to be vegan\\ndestruction of environment\\ncapitalism\\nanimal rights\\nnot reasons to be vegan\\nfeminism\\nthe female an\\u2026', u'rt alexisderiksmit i dont believe in feminism\\n\\nshun the non believer shunnn', u'rt notallbhas white feminist\\u2122 called out on racist appropriation responds claiming she has no obligation to respect other cultures http\\u2026', u'wikipedia wants to ban feminist editors from gamergate\\xa0articles httptcom1izvh4a4k', u'rt motherjones that time badass feminist queen elizabeth gave saudi arabias king a lesson in power httptcotacyoyzcai httptcooe\\u2026', u'rt kennedylryan i figured that her opinion didnt matter so i decided to be a creep anyways dont call yourself a feminist mate gerard\\u2026', u'rt kristeng43 meninism is a mockery of feminism and is an example of how we cant request equality wo guys making it about themselves tbh', u'rt drravenswood is research feministaction find out mon 22 genderampdiversityresearchgroup preairaanz httptcobqh6xl3qr8 airaanz\\u2026', u'if ur a strong feminist pls dm or fav or tweet me thx', u'republicanmrs not to mention that the feminist movement accounts for and benefits men as well clearly youre misinformed', u'im such a feminist cause my childhood consisted of watching spice world on repeat girlpower \\u270a\\U0001f481', u'rt gingerest fellow white feminist atheists please do not do this from notallbhas httptcoecgg7yxkfj', u'minkumedia i was on one where this person told me they hate feminism after i told them i was a feminist got away fast', u'rt rossalynwarren im a black feminist but i feel that i am not being heard or represented in mainstream feminism  great project http\\u2026', u'i am a feminist and i support the heforshe', u'rt browhatt feminism is gay yeah including the gay community in the feminist movement is actually really important', u'candace needs to stop putting antifeminism crap on my tl', u'highly recommended for its complicated characters and feminist heroine the fall  gillian anderson\\u2019s bbc series  httptcojd5iy1k7ka', u'rt miretxebarria happy birthday to the feminist and antiracist activist angela davis httptcolzheqneqtr', u'rt qz \\u201cfeminist\\u201d didn\\u2019t mean much to me until i was fired in my 9th month of pregnancy httptcofjjklfcseb the case for obama\\u2019s child \\u2026', u'feminist the person who believes in political social and economic equality of sexes', u'rt ataveira i am a feminist \\u201ccremelesa feminist a person who believes in the social political and economic equality of the sexes\\u201d', u'im a feminist but i still think the meninist account is funny httptcoznxptdqvdf', u'rt brbabblingbooks feminism does not kill injure or destroy many other  belief systems do dont apologize for being a feminist yesa\\u2026', u'apolkadotnerd you\\u2019re just as feminist wearing a hijab as you are wearing a beanie wearing a religious httptcosx4lvkliwu', u'\\u201csnoozyloser if ur a girl that is against feminism why r u voting why r u wearing pants how can u read\\u201d', u'if you think a certain feminist is too uppity about rape chances are shes a survivor who was never taken seriously rapeculture', u'whats so inhumane about wanting equal rights feminism', u'rt prowomanchoice ineedfeminismbecause i acknowledge its 2015 and incomprehensibly women are still not equal to men yesallwomen fe\\u2026', u'rt marximillion im not interested in anything that isnt feminism', u'rt yungclaudia okay so how can u be female and not be a feminist ill never comprehend how any female doesnt believe in basic human ri\\u2026', u'feminist  the person who believes in the social  political  and economic equality of the sexes ', u'rt basedmistress when you attempt to insult a feminist on the grounds of find a man trust that shes not gonna give a fuck amp will te\\u2026', u'wikipedias credibility is seriously jeopardized by its antifeminist decision on gamergate articles story here httptcokeyrn8kus7', u'rt bdk0865 happy birthday to the president and worlds 1 feminist \\U0001f475 nora mckennakrogius httptco7zaaivfz87', u'rt emwatson thank you elleuk for having me on the cover of the feminism issue my favourite magazine cover ever lorraineelle x httpt\\u2026', u'ockman24 whats wrong with supporting women who are blamed for being raped lol uve got the wrong interpretation   of what a feminist is', u'is thefall  the most feminist show on television httptcoxthkhpxfdd', u'rt cmclymer my partner isnt a feminist\\n\\nruinaweddingin5words', u'rt wakana584 turn your princessobsessed toddler into a feminist in eight easy steps httptcorsvjntkw80 httptcofewnpskph1', u'the only way to effect change is to stay true to your ideals this feminist gamer wont stop thanks totalbiscuit for the inspiration', u'zaidjilani and im a socialdemocrat for the record and a feminist norway forever', u'rt hufinnej my blk feminism is not about getting a seat at the tablegetting a room in the white house its about creating an entirely n\\u2026', u'hollywoods most feminist film of the year', u'disturbedfan132 i believe myself to be a feminist and tho i disagree with the new femfad they sometimes make points', u'mahumq constibation not so huge grassroots feminist movement in india', u'dont ever dismiss beyonc\\xe9 in ur feminist discourse simply bc she is a successful woman who is comfortable with expressing her sexuality', u'rt prowomanchoice ineedfeminismbecause i acknowledge its 2015 and incomprehensibly women are still not equal to men yesallwomen fe\\u2026', u'if i did a vid on feminist philosophy would u rather it be on metaphysics or epistemology extremelyboring ianinthebawks archiducissa', u'the word feminist has such a negative stigma attached to it and almost always is met with some sort of resistance its really sad', u'rt arcticanwxar do guys realize that everyone should be a feminist', u'i am a christian and i believe in gay rights and feminism so can people stop saying you cant do both', u'rt iuckystarr vuhsace as a feminist i fight for the right to have a dick in me when ever i want', u'panchotaffy kate2373 i am a cisgender feminist ally', u'maryfduffy feminist theory to be precise studying with jane tompkins and  toril moi and barbara hernsteinsmith life is passing strange', u'rt nashwakay being sexually active or having sexual desire isnt a requisite for feminist practice that assumption is grotesque amp  not i\\u2026', u'rt dadcult what feminism is abt\\n\\u2022 equality 4 all genders\\n\\u2022 fighting rape culture \\n\\u2022 defending womens rights\\nwhat feminism is not abt\\n\\u2022\\u2026', u'rt dadcult what feminism is abt\\n\\u2022 equality 4 all genders\\n\\u2022 fighting rape culture \\n\\u2022 defending womens rights\\nwhat feminism is not abt\\n\\u2022\\u2026', u'remynorth believing that the sexes should be equal means youre a feminist thats literally what the movement is about', u'rt washingtonpost a new study says ryan gosling memes can increase mens feminist feelings httptcojqmo57hqut httptco1ymeprkuzl', u'rt theavclub ryan gosling memes make men more feminist study shows httptco1dvi13sp38 httptcoppm8xrh3hj']\n",
        "\n",
        "\n",
        "7\n",
        "[u'photoset sjwstupidity for all those feminists who think that people only hate feminism because they\\u2019re httptcouxid9rieyo', u'funny how each feminist who attacked me reinforced the negative stereotypes about modern feminists in some way \\U0001f602\\U0001f602\\U0001f602', u'its not feminism its some of these feminists httptcownc8ditjw9', u'bradleykirby that feminist hashtag was too nitpicky arent feminists insane', u'nafedude more feminist bs and you feminists wonder why most people dont care about your cult', u'rt dekashoko gamergate donates thousands to charity feminists use 70k taxpayers money to stop men sitting with their legs slightly apa\\u2026', u'i\\u2019m not sure why people are low on feminists i would date a feminist in 03 seconds if i liked her', u'everyone we hire on our show is a feminist male or female\\u2026we without a doubt are feminists  abbi jacobson thats what im here for yes', u'african feminists making huge gains httptcosj3no941ms', u'as feminists we also need to break male stereotypes we must remember that manhating is in fact the opposite of feminism', u'feminists forced kaley cuoco to apologize for not being a feminist httptcoyjf0qzjtwp']\n",
        "\n",
        "\n",
        "8\n",
        "[u'i lost my first match in robotics even though the other day though so many non gamer supporters whos only commonality is hating feminism', u'i love talking about feminism i could go on and on all day about that subject', u'i will stress the importance of feminism until the day i die to be quite honest']\n",
        "\n",
        "\n",
        "9\n",
        "[u'rt whorchata2 emmerrrs98 i know what feminism is but our generationculture has formed it into hypersensitive girls who bash on all guys', u'it is simply impossible to defend feminism once you know the facts the challenge will be to remove yourself httptcoajm3f6bqbg', u'rt soulthatmatters tweetlikeafeminist if you know what feminism is otherwise refrain from making yourself sound uneducated', u'rt teenidlenourry people say theyre against feminism before they even know the correct definition', u'rt caseyg \\u201ceverything i know about starting collaborative feminist publications\\u201d by ameliagreenhall is so useful httptcofxovensey\\u2026', u'rt hassamm i finally know what intersectional feminism is after doing a reading on international relations', u'rt thetrudz you know my fav book by her i know its supposed to be women race amp class but really its blues legacies and black femini\\u2026', u'rt leilanigbbns the people who bash feminism are the ones that 99 of the time dont know what it is', u'i have this friend who wants me to teach him everything i know because he already identifies as feminist and hes so cute \\u2764\\ufe0f']\n",
        "\n",
        "\n"
       ]
      }
     ],
     "prompt_number": 55
    },
    {
     "cell_type": "code",
     "collapsed": false,
     "input": [
      "tsvd2 = TruncatedSVD(n_components=2)\n",
      "\n",
      "embedded_2d_corpus = tsvd2.fit_transform(vectorized_corpus)"
     ],
     "language": "python",
     "metadata": {},
     "outputs": [],
     "prompt_number": 56
    },
    {
     "cell_type": "code",
     "collapsed": false,
     "input": [
      "import matplotlib.pyplot as plt \n",
      "%matplotlib inline  # this will make our plots show up when we build them\n",
      "\n",
      "# DO I NEED TO INSTALL MATPLOT? \n",
      "#~ipython notebook --matplotlib=inline in bash to start up \n",
      "\n",
      "\n",
      "# matplotlib makes us plot y-values vs x-values, \n",
      "# so we put the second column of embedded_2d_corpus in the y-values \n",
      "# and we put the first column in the x-values\n",
      "plt.plot(embedded_2d_corpus[:,1], embedded_2d_corpus[:,0])"
     ],
     "language": "python",
     "metadata": {},
     "outputs": [
      {
       "output_type": "stream",
       "stream": "stderr",
       "text": [
        "UsageError: unrecognized arguments: # this will make our plots show up when we build them"
       ]
      }
     ],
     "prompt_number": 58
    },
    {
     "cell_type": "code",
     "collapsed": false,
     "input": [
      " #look into tomorrow\n",
      "from sklearn.metrics.pairwise import cosine_similarity\n",
      "N_MOST_SIMILAR = 10\n",
      "\n",
      "def get_similar_docs(doc): \n",
      "    doc = preprocess(doc) \n",
      "    vector = vect.transform([doc])\n",
      "    embedding = tsvd.transform(vector)\n",
      "    similarities = cosine_similarity(embedding, embedded_corpus)\n",
      "    similar_indices = similarities.flatten().argsort()[-N_MOST_SIMILAR:-1]  # think: (1) why take the elements at the *end* of the array?; and (2) why exclude the *most* similar document in the corpus?\n",
      "    return [links[idx] for idx in similar_indices]\n",
      "\n",
      "choice = random.choice(xrange(len(links)))\n",
      "print(links[choice])\n",
      "print(get_similar_docs(raw_corpus[choice]))"
     ],
     "language": "python",
     "metadata": {},
     "outputs": [],
     "prompt_number": 16
    },
    {
     "cell_type": "code",
     "collapsed": false,
     "input": [],
     "language": "python",
     "metadata": {},
     "outputs": []
    }
   ],
   "metadata": {}
  }
 ]
}